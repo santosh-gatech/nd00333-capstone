{
  "cells": [
    {
      "cell_type": "markdown",
      "source": [
        "# Automated ML\n",
        "\n",
        "TODO: Import Dependencies. In the cell below, import all the dependencies that you will need to complete the project."
      ],
      "metadata": {}
    },
    {
      "cell_type": "code",
      "source": [
        "import logging\r\n",
        "import os\r\n",
        "import csv\r\n",
        "\r\n",
        "from matplotlib import pyplot as plt\r\n",
        "import numpy as np\r\n",
        "import pandas as pd\r\n",
        "from sklearn import datasets\r\n",
        "import pkg_resources\r\n",
        "\r\n",
        "import azureml.core\r\n",
        "from azureml.core.experiment import Experiment\r\n",
        "from azureml.core.workspace import Workspace\r\n",
        "from azureml.train.automl import AutoMLConfig\r\n",
        "from azureml.core.dataset import Dataset\r\n",
        "\r\n",
        "from azureml.pipeline.steps import AutoMLStep\r\n",
        "\r\n",
        "# Check core SDK version number\r\n",
        "print(\"SDK version:\", azureml.core.VERSION)"
      ],
      "outputs": [
        {
          "output_type": "stream",
          "name": "stdout",
          "text": [
            "SDK version: 1.30.0\n"
          ]
        }
      ],
      "execution_count": 1,
      "metadata": {
        "gather": {
          "logged": 1624340655717
        },
        "jupyter": {
          "outputs_hidden": false,
          "source_hidden": false
        },
        "nteract": {
          "transient": {
            "deleting": false
          }
        }
      }
    },
    {
      "cell_type": "markdown",
      "source": [
        "## Dataset\n",
        "\n",
        "### Overview\n",
        "TODO: In this markdown cell, give an overview of the dataset you are using. Also mention the task you will be performing.\n",
        "\n",
        "\n",
        "TODO: Get data. In the cell below, write code to access the data you will be using in this project. Remember that the dataset needs to be external."
      ],
      "metadata": {}
    },
    {
      "cell_type": "code",
      "source": [
        "ws = Workspace.from_config()\r\n",
        "print(ws.name, ws.resource_group, ws.location, ws.subscription_id, sep = '\\n')"
      ],
      "outputs": [
        {
          "output_type": "stream",
          "name": "stdout",
          "text": [
            "quick-starts-ws-147669\n",
            "aml-quickstarts-147669\n",
            "southcentralus\n",
            "48a74bb7-9950-4cc1-9caa-5d50f995cc55\n"
          ]
        }
      ],
      "execution_count": 2,
      "metadata": {
        "collapsed": true,
        "jupyter": {
          "source_hidden": false,
          "outputs_hidden": false
        },
        "nteract": {
          "transient": {
            "deleting": false
          }
        },
        "gather": {
          "logged": 1624341043239
        }
      }
    },
    {
      "cell_type": "code",
      "source": [
        "# choose a name for experiment\n",
        "experiment_name = 'heart-experiment'\n",
        "\n",
        "experiment=Experiment(ws, experiment_name)\n",
        "experiment"
      ],
      "outputs": [
        {
          "output_type": "execute_result",
          "execution_count": 4,
          "data": {
            "text/plain": "Experiment(Name: heart-experiment,\nWorkspace: quick-starts-ws-147669)",
            "text/html": "<table style=\"width:100%\"><tr><th>Name</th><th>Workspace</th><th>Report Page</th><th>Docs Page</th></tr><tr><td>heart-experiment</td><td>quick-starts-ws-147669</td><td><a href=\"https://ml.azure.com/experiments/id/44718e31-3bc7-485c-9b52-389f95597829?wsid=/subscriptions/48a74bb7-9950-4cc1-9caa-5d50f995cc55/resourcegroups/aml-quickstarts-147669/workspaces/quick-starts-ws-147669&amp;tid=660b3398-b80e-49d2-bc5b-ac1dc93b5254\" target=\"_blank\" rel=\"noopener\">Link to Azure Machine Learning studio</a></td><td><a href=\"https://docs.microsoft.com/en-us/python/api/azureml-core/azureml.core.experiment.Experiment?view=azure-ml-py\" target=\"_blank\" rel=\"noopener\">Link to Documentation</a></td></tr></table>"
          },
          "metadata": {}
        }
      ],
      "execution_count": 4,
      "metadata": {
        "gather": {
          "logged": 1624341177336
        },
        "jupyter": {
          "outputs_hidden": false,
          "source_hidden": false
        },
        "nteract": {
          "transient": {
            "deleting": false
          }
        }
      }
    },
    {
      "cell_type": "code",
      "source": [
        "from azureml.core.compute import AmlCompute\r\n",
        "from azureml.core.compute import ComputeTarget\r\n",
        "from azureml.core.compute_target import ComputeTargetException\r\n",
        "\r\n",
        "# NOTE: update the cluster name to match the existing cluster\r\n",
        "# Choose a name for your CPU cluster\r\n",
        "amlcompute_cluster_name = \"cpu-cluster-exp\"\r\n",
        "\r\n",
        "# Verify that cluster does not exist already\r\n",
        "try:\r\n",
        "    compute_target = ComputeTarget(workspace=ws, name=amlcompute_cluster_name)\r\n",
        "    print('Found existing cluster, use it.')\r\n",
        "except ComputeTargetException:\r\n",
        "    compute_config = AmlCompute.provisioning_configuration(vm_size='STANDARD_D2_V2',# for GPU, use \"STANDARD_NC6\"\r\n",
        "                                                           #vm_priority = 'lowpriority', # optional\r\n",
        "                                                           max_nodes=4)\r\n",
        "    compute_target = ComputeTarget.create(ws, amlcompute_cluster_name, compute_config)\r\n",
        "\r\n",
        "compute_target.wait_for_completion(show_output=True)\r\n",
        "# For a more detailed view of current AmlCompute status, use get_status()."
      ],
      "outputs": [
        {
          "output_type": "stream",
          "name": "stdout",
          "text": [
            "Found existing cluster, use it.\n",
            "Succeeded\n",
            "AmlCompute wait for completion finished\n",
            "\n",
            "Minimum number of nodes requested have been provisioned\n"
          ]
        }
      ],
      "execution_count": 6,
      "metadata": {
        "collapsed": true,
        "jupyter": {
          "source_hidden": false,
          "outputs_hidden": false
        },
        "nteract": {
          "transient": {
            "deleting": false
          }
        },
        "gather": {
          "logged": 1624341919616
        }
      }
    },
    {
      "cell_type": "code",
      "source": [
        "key = \"Heart-failure\"\r\n",
        "description_text = \"Heart Failure Prediction DataSet from Kaggle\"\r\n",
        "\r\n",
        "# Create AML Dataset and register it into Workspace\r\n",
        "example_data = 'https://raw.githubusercontent.com/santosh-gatech/nd00333-capstone/master/starter_file/heart_failure_clinical_records_dataset.csv'\r\n",
        "dataset = Dataset.Tabular.from_delimited_files(example_data)        \r\n",
        "#Register Dataset in Workspace\r\n",
        "dataset = dataset.register(workspace=ws,\r\n",
        "                            name=key,\r\n",
        "                            description=description_text)\r\n",
        "\r\n",
        "\r\n",
        "df = dataset.to_pandas_dataframe()\r\n",
        "df.describe()"
      ],
      "outputs": [
        {
          "output_type": "execute_result",
          "execution_count": 12,
          "data": {
            "text/plain": "              age     anaemia  creatinine_phosphokinase    diabetes  \\\ncount  299.000000  299.000000                299.000000  299.000000   \nmean    60.833893    0.431438                581.839465    0.418060   \nstd     11.894809    0.496107                970.287881    0.494067   \nmin     40.000000    0.000000                 23.000000    0.000000   \n25%     51.000000    0.000000                116.500000    0.000000   \n50%     60.000000    0.000000                250.000000    0.000000   \n75%     70.000000    1.000000                582.000000    1.000000   \nmax     95.000000    1.000000               7861.000000    1.000000   \n\n       ejection_fraction  high_blood_pressure      platelets  \\\ncount         299.000000           299.000000     299.000000   \nmean           38.083612             0.351171  263358.029264   \nstd            11.834841             0.478136   97804.236869   \nmin            14.000000             0.000000   25100.000000   \n25%            30.000000             0.000000  212500.000000   \n50%            38.000000             0.000000  262000.000000   \n75%            45.000000             1.000000  303500.000000   \nmax            80.000000             1.000000  850000.000000   \n\n       serum_creatinine  serum_sodium         sex    smoking        time  \\\ncount         299.00000    299.000000  299.000000  299.00000  299.000000   \nmean            1.39388    136.625418    0.648829    0.32107  130.260870   \nstd             1.03451      4.412477    0.478136    0.46767   77.614208   \nmin             0.50000    113.000000    0.000000    0.00000    4.000000   \n25%             0.90000    134.000000    0.000000    0.00000   73.000000   \n50%             1.10000    137.000000    1.000000    0.00000  115.000000   \n75%             1.40000    140.000000    1.000000    1.00000  203.000000   \nmax             9.40000    148.000000    1.000000    1.00000  285.000000   \n\n       DEATH_EVENT  \ncount    299.00000  \nmean       0.32107  \nstd        0.46767  \nmin        0.00000  \n25%        0.00000  \n50%        0.00000  \n75%        1.00000  \nmax        1.00000  ",
            "text/html": "<div>\n<style scoped>\n    .dataframe tbody tr th:only-of-type {\n        vertical-align: middle;\n    }\n\n    .dataframe tbody tr th {\n        vertical-align: top;\n    }\n\n    .dataframe thead th {\n        text-align: right;\n    }\n</style>\n<table border=\"1\" class=\"dataframe\">\n  <thead>\n    <tr style=\"text-align: right;\">\n      <th></th>\n      <th>age</th>\n      <th>anaemia</th>\n      <th>creatinine_phosphokinase</th>\n      <th>diabetes</th>\n      <th>ejection_fraction</th>\n      <th>high_blood_pressure</th>\n      <th>platelets</th>\n      <th>serum_creatinine</th>\n      <th>serum_sodium</th>\n      <th>sex</th>\n      <th>smoking</th>\n      <th>time</th>\n      <th>DEATH_EVENT</th>\n    </tr>\n  </thead>\n  <tbody>\n    <tr>\n      <th>count</th>\n      <td>299.000000</td>\n      <td>299.000000</td>\n      <td>299.000000</td>\n      <td>299.000000</td>\n      <td>299.000000</td>\n      <td>299.000000</td>\n      <td>299.000000</td>\n      <td>299.00000</td>\n      <td>299.000000</td>\n      <td>299.000000</td>\n      <td>299.00000</td>\n      <td>299.000000</td>\n      <td>299.00000</td>\n    </tr>\n    <tr>\n      <th>mean</th>\n      <td>60.833893</td>\n      <td>0.431438</td>\n      <td>581.839465</td>\n      <td>0.418060</td>\n      <td>38.083612</td>\n      <td>0.351171</td>\n      <td>263358.029264</td>\n      <td>1.39388</td>\n      <td>136.625418</td>\n      <td>0.648829</td>\n      <td>0.32107</td>\n      <td>130.260870</td>\n      <td>0.32107</td>\n    </tr>\n    <tr>\n      <th>std</th>\n      <td>11.894809</td>\n      <td>0.496107</td>\n      <td>970.287881</td>\n      <td>0.494067</td>\n      <td>11.834841</td>\n      <td>0.478136</td>\n      <td>97804.236869</td>\n      <td>1.03451</td>\n      <td>4.412477</td>\n      <td>0.478136</td>\n      <td>0.46767</td>\n      <td>77.614208</td>\n      <td>0.46767</td>\n    </tr>\n    <tr>\n      <th>min</th>\n      <td>40.000000</td>\n      <td>0.000000</td>\n      <td>23.000000</td>\n      <td>0.000000</td>\n      <td>14.000000</td>\n      <td>0.000000</td>\n      <td>25100.000000</td>\n      <td>0.50000</td>\n      <td>113.000000</td>\n      <td>0.000000</td>\n      <td>0.00000</td>\n      <td>4.000000</td>\n      <td>0.00000</td>\n    </tr>\n    <tr>\n      <th>25%</th>\n      <td>51.000000</td>\n      <td>0.000000</td>\n      <td>116.500000</td>\n      <td>0.000000</td>\n      <td>30.000000</td>\n      <td>0.000000</td>\n      <td>212500.000000</td>\n      <td>0.90000</td>\n      <td>134.000000</td>\n      <td>0.000000</td>\n      <td>0.00000</td>\n      <td>73.000000</td>\n      <td>0.00000</td>\n    </tr>\n    <tr>\n      <th>50%</th>\n      <td>60.000000</td>\n      <td>0.000000</td>\n      <td>250.000000</td>\n      <td>0.000000</td>\n      <td>38.000000</td>\n      <td>0.000000</td>\n      <td>262000.000000</td>\n      <td>1.10000</td>\n      <td>137.000000</td>\n      <td>1.000000</td>\n      <td>0.00000</td>\n      <td>115.000000</td>\n      <td>0.00000</td>\n    </tr>\n    <tr>\n      <th>75%</th>\n      <td>70.000000</td>\n      <td>1.000000</td>\n      <td>582.000000</td>\n      <td>1.000000</td>\n      <td>45.000000</td>\n      <td>1.000000</td>\n      <td>303500.000000</td>\n      <td>1.40000</td>\n      <td>140.000000</td>\n      <td>1.000000</td>\n      <td>1.00000</td>\n      <td>203.000000</td>\n      <td>1.00000</td>\n    </tr>\n    <tr>\n      <th>max</th>\n      <td>95.000000</td>\n      <td>1.000000</td>\n      <td>7861.000000</td>\n      <td>1.000000</td>\n      <td>80.000000</td>\n      <td>1.000000</td>\n      <td>850000.000000</td>\n      <td>9.40000</td>\n      <td>148.000000</td>\n      <td>1.000000</td>\n      <td>1.00000</td>\n      <td>285.000000</td>\n      <td>1.00000</td>\n    </tr>\n  </tbody>\n</table>\n</div>"
          },
          "metadata": {}
        }
      ],
      "execution_count": 12,
      "metadata": {
        "collapsed": true,
        "jupyter": {
          "source_hidden": false,
          "outputs_hidden": false
        },
        "nteract": {
          "transient": {
            "deleting": false
          }
        },
        "gather": {
          "logged": 1624342609498
        }
      }
    },
    {
      "cell_type": "code",
      "source": [
        "dataset.take(5).to_pandas_dataframe()"
      ],
      "outputs": [
        {
          "output_type": "execute_result",
          "execution_count": 13,
          "data": {
            "text/plain": "    age  anaemia  creatinine_phosphokinase  diabetes  ejection_fraction  \\\n0  75.0        0                       582         0                 20   \n1  55.0        0                      7861         0                 38   \n2  65.0        0                       146         0                 20   \n3  50.0        1                       111         0                 20   \n4  65.0        1                       160         1                 20   \n\n   high_blood_pressure  platelets  serum_creatinine  serum_sodium  sex  \\\n0                    1  265000.00               1.9           130    1   \n1                    0  263358.03               1.1           136    1   \n2                    0  162000.00               1.3           129    1   \n3                    0  210000.00               1.9           137    1   \n4                    0  327000.00               2.7           116    0   \n\n   smoking  time  DEATH_EVENT  \n0        0     4            1  \n1        0     6            1  \n2        1     7            1  \n3        0     7            1  \n4        0     8            1  ",
            "text/html": "<div>\n<style scoped>\n    .dataframe tbody tr th:only-of-type {\n        vertical-align: middle;\n    }\n\n    .dataframe tbody tr th {\n        vertical-align: top;\n    }\n\n    .dataframe thead th {\n        text-align: right;\n    }\n</style>\n<table border=\"1\" class=\"dataframe\">\n  <thead>\n    <tr style=\"text-align: right;\">\n      <th></th>\n      <th>age</th>\n      <th>anaemia</th>\n      <th>creatinine_phosphokinase</th>\n      <th>diabetes</th>\n      <th>ejection_fraction</th>\n      <th>high_blood_pressure</th>\n      <th>platelets</th>\n      <th>serum_creatinine</th>\n      <th>serum_sodium</th>\n      <th>sex</th>\n      <th>smoking</th>\n      <th>time</th>\n      <th>DEATH_EVENT</th>\n    </tr>\n  </thead>\n  <tbody>\n    <tr>\n      <th>0</th>\n      <td>75.0</td>\n      <td>0</td>\n      <td>582</td>\n      <td>0</td>\n      <td>20</td>\n      <td>1</td>\n      <td>265000.00</td>\n      <td>1.9</td>\n      <td>130</td>\n      <td>1</td>\n      <td>0</td>\n      <td>4</td>\n      <td>1</td>\n    </tr>\n    <tr>\n      <th>1</th>\n      <td>55.0</td>\n      <td>0</td>\n      <td>7861</td>\n      <td>0</td>\n      <td>38</td>\n      <td>0</td>\n      <td>263358.03</td>\n      <td>1.1</td>\n      <td>136</td>\n      <td>1</td>\n      <td>0</td>\n      <td>6</td>\n      <td>1</td>\n    </tr>\n    <tr>\n      <th>2</th>\n      <td>65.0</td>\n      <td>0</td>\n      <td>146</td>\n      <td>0</td>\n      <td>20</td>\n      <td>0</td>\n      <td>162000.00</td>\n      <td>1.3</td>\n      <td>129</td>\n      <td>1</td>\n      <td>1</td>\n      <td>7</td>\n      <td>1</td>\n    </tr>\n    <tr>\n      <th>3</th>\n      <td>50.0</td>\n      <td>1</td>\n      <td>111</td>\n      <td>0</td>\n      <td>20</td>\n      <td>0</td>\n      <td>210000.00</td>\n      <td>1.9</td>\n      <td>137</td>\n      <td>1</td>\n      <td>0</td>\n      <td>7</td>\n      <td>1</td>\n    </tr>\n    <tr>\n      <th>4</th>\n      <td>65.0</td>\n      <td>1</td>\n      <td>160</td>\n      <td>1</td>\n      <td>20</td>\n      <td>0</td>\n      <td>327000.00</td>\n      <td>2.7</td>\n      <td>116</td>\n      <td>0</td>\n      <td>0</td>\n      <td>8</td>\n      <td>1</td>\n    </tr>\n  </tbody>\n</table>\n</div>"
          },
          "metadata": {}
        }
      ],
      "execution_count": 13,
      "metadata": {
        "collapsed": true,
        "jupyter": {
          "source_hidden": false,
          "outputs_hidden": false
        },
        "nteract": {
          "transient": {
            "deleting": false
          }
        },
        "gather": {
          "logged": 1624342642136
        }
      }
    },
    {
      "cell_type": "markdown",
      "source": [
        "## AutoML Configuration\n",
        "\n",
        "TODO: Explain why you chose the automl settings and cofiguration you used below."
      ],
      "metadata": {}
    },
    {
      "cell_type": "code",
      "source": [
        "automl_settings = {\n",
        "    \"experiment_timeout_minutes\": 20,\n",
        "    \"max_concurrent_iterations\": 5,\n",
        "    \"primary_metric\" : 'accuracy'\n",
        "}\n",
        "automl_config = AutoMLConfig(compute_target=compute_target,\n",
        "                             task = \"classification\",\n",
        "                             training_data=dataset,\n",
        "                             label_column_name=\"DEATH_EVENT\",\n",
        "                             enable_early_stopping= True,\n",
        "                             featurization= 'auto',\n",
        "                             debug_log = \"automl_errors.log\",\n",
        "                             **automl_settings\n",
        "                            )"
      ],
      "outputs": [],
      "execution_count": 14,
      "metadata": {
        "gather": {
          "logged": 1624343088486
        },
        "jupyter": {
          "outputs_hidden": false,
          "source_hidden": false
        },
        "nteract": {
          "transient": {
            "deleting": false
          }
        }
      }
    },
    {
      "cell_type": "code",
      "source": [
        "# TODO: Submit your experiment\n",
        "remote_run = experiment.submit(automl_config, show_ouput=True)"
      ],
      "outputs": [
        {
          "output_type": "stream",
          "name": "stdout",
          "text": [
            "Submitting remote run.\n"
          ]
        },
        {
          "output_type": "display_data",
          "data": {
            "text/plain": "<IPython.core.display.HTML object>",
            "text/html": "<table style=\"width:100%\"><tr><th>Experiment</th><th>Id</th><th>Type</th><th>Status</th><th>Details Page</th><th>Docs Page</th></tr><tr><td>heart-experiment</td><td>AutoML_81b2b526-2f3b-42e6-bedf-bc0687eeaed6</td><td>automl</td><td>NotStarted</td><td><a href=\"https://ml.azure.com/runs/AutoML_81b2b526-2f3b-42e6-bedf-bc0687eeaed6?wsid=/subscriptions/48a74bb7-9950-4cc1-9caa-5d50f995cc55/resourcegroups/aml-quickstarts-147669/workspaces/quick-starts-ws-147669&amp;tid=660b3398-b80e-49d2-bc5b-ac1dc93b5254\" target=\"_blank\" rel=\"noopener\">Link to Azure Machine Learning studio</a></td><td><a href=\"https://docs.microsoft.com/en-us/python/api/overview/azure/ml/intro?view=azure-ml-py\" target=\"_blank\" rel=\"noopener\">Link to Documentation</a></td></tr></table>"
          },
          "metadata": {}
        }
      ],
      "execution_count": 15,
      "metadata": {
        "gather": {
          "logged": 1624343139771
        },
        "jupyter": {
          "outputs_hidden": false,
          "source_hidden": false
        },
        "nteract": {
          "transient": {
            "deleting": false
          }
        }
      }
    },
    {
      "cell_type": "markdown",
      "source": [
        "## Run Details\n",
        "\n",
        "OPTIONAL: Write about the different models trained and their performance. Why do you think some models did better than others?\n",
        "\n",
        "TODO: In the cell below, use the `RunDetails` widget to show the different experiments."
      ],
      "metadata": {}
    },
    {
      "cell_type": "code",
      "source": [
        "from azureml.widgets import RunDetails\r\n",
        "RunDetails(remote_run).show()"
      ],
      "outputs": [
        {
          "output_type": "display_data",
          "data": {
            "text/plain": "_AutoMLWidget(widget_settings={'childWidgetDisplay': 'popup', 'send_telemetry': False, 'log_level': 'INFO', 's…",
            "application/vnd.jupyter.widget-view+json": {
              "version_major": 2,
              "version_minor": 0,
              "model_id": "0d6bd611b92f45d38b21737dce209cf5"
            }
          },
          "metadata": {}
        },
        {
          "output_type": "display_data",
          "data": {
            "application/aml.mini.widget.v1": "{\"status\": \"Completed\", \"workbench_run_details_uri\": \"https://ml.azure.com/runs/AutoML_81b2b526-2f3b-42e6-bedf-bc0687eeaed6?wsid=/subscriptions/48a74bb7-9950-4cc1-9caa-5d50f995cc55/resourcegroups/aml-quickstarts-147669/workspaces/quick-starts-ws-147669&tid=660b3398-b80e-49d2-bc5b-ac1dc93b5254\", \"run_id\": \"AutoML_81b2b526-2f3b-42e6-bedf-bc0687eeaed6\", \"run_properties\": {\"run_id\": \"AutoML_81b2b526-2f3b-42e6-bedf-bc0687eeaed6\", \"created_utc\": \"2021-06-22T06:25:38.42734Z\", \"properties\": {\"num_iterations\": \"1000\", \"training_type\": \"TrainFull\", \"acquisition_function\": \"EI\", \"primary_metric\": \"accuracy\", \"train_split\": \"0\", \"acquisition_parameter\": \"0\", \"num_cross_validation\": null, \"target\": \"cpu-cluster-exp\", \"AMLSettingsJsonString\": \"{\\\"path\\\":null,\\\"name\\\":\\\"heart-experiment\\\",\\\"subscription_id\\\":\\\"48a74bb7-9950-4cc1-9caa-5d50f995cc55\\\",\\\"resource_group\\\":\\\"aml-quickstarts-147669\\\",\\\"workspace_name\\\":\\\"quick-starts-ws-147669\\\",\\\"region\\\":\\\"southcentralus\\\",\\\"compute_target\\\":\\\"cpu-cluster-exp\\\",\\\"spark_service\\\":null,\\\"azure_service\\\":\\\"remote\\\",\\\"many_models\\\":false,\\\"pipeline_fetch_max_batch_size\\\":1,\\\"enable_batch_run\\\":false,\\\"enable_run_restructure\\\":false,\\\"start_auxiliary_runs_before_parent_complete\\\":false,\\\"enable_code_generation\\\":false,\\\"iterations\\\":1000,\\\"primary_metric\\\":\\\"accuracy\\\",\\\"task_type\\\":\\\"classification\\\",\\\"data_script\\\":null,\\\"test_size\\\":0.0,\\\"validation_size\\\":0.0,\\\"n_cross_validations\\\":null,\\\"y_min\\\":null,\\\"y_max\\\":null,\\\"num_classes\\\":null,\\\"featurization\\\":\\\"auto\\\",\\\"_ignore_package_version_incompatibilities\\\":false,\\\"is_timeseries\\\":false,\\\"max_cores_per_iteration\\\":1,\\\"max_concurrent_iterations\\\":5,\\\"iteration_timeout_minutes\\\":null,\\\"mem_in_mb\\\":null,\\\"enforce_time_on_windows\\\":false,\\\"experiment_timeout_minutes\\\":20,\\\"experiment_exit_score\\\":null,\\\"whitelist_models\\\":null,\\\"blacklist_algos\\\":[\\\"TensorFlowLinearClassifier\\\",\\\"TensorFlowDNN\\\"],\\\"supported_models\\\":[\\\"TensorFlowDNN\\\",\\\"XGBoostClassifier\\\",\\\"SGD\\\",\\\"BernoulliNaiveBayes\\\",\\\"SVM\\\",\\\"GradientBoosting\\\",\\\"LightGBM\\\",\\\"RandomForest\\\",\\\"ExtremeRandomTrees\\\",\\\"DecisionTree\\\",\\\"MultinomialNaiveBayes\\\",\\\"KNN\\\",\\\"LogisticRegression\\\",\\\"TensorFlowLinearClassifier\\\",\\\"LinearSVM\\\",\\\"AveragedPerceptronClassifier\\\"],\\\"private_models\\\":[],\\\"auto_blacklist\\\":true,\\\"blacklist_samples_reached\\\":false,\\\"exclude_nan_labels\\\":true,\\\"verbosity\\\":20,\\\"_debug_log\\\":\\\"azureml_automl.log\\\",\\\"show_warnings\\\":false,\\\"model_explainability\\\":true,\\\"service_url\\\":null,\\\"sdk_url\\\":null,\\\"sdk_packages\\\":null,\\\"enable_onnx_compatible_models\\\":false,\\\"enable_split_onnx_featurizer_estimator_models\\\":false,\\\"vm_type\\\":\\\"STANDARD_D2_V2\\\",\\\"telemetry_verbosity\\\":20,\\\"send_telemetry\\\":true,\\\"enable_dnn\\\":false,\\\"scenario\\\":\\\"SDK-1.13.0\\\",\\\"environment_label\\\":null,\\\"save_mlflow\\\":false,\\\"force_text_dnn\\\":false,\\\"enable_feature_sweeping\\\":true,\\\"enable_early_stopping\\\":true,\\\"early_stopping_n_iters\\\":10,\\\"metrics\\\":null,\\\"enable_metric_confidence\\\":false,\\\"enable_ensembling\\\":true,\\\"enable_stack_ensembling\\\":true,\\\"ensemble_iterations\\\":15,\\\"enable_tf\\\":false,\\\"enable_subsampling\\\":null,\\\"subsample_seed\\\":null,\\\"enable_nimbusml\\\":false,\\\"enable_streaming\\\":false,\\\"force_streaming\\\":false,\\\"track_child_runs\\\":true,\\\"allowed_private_models\\\":[],\\\"label_column_name\\\":\\\"DEATH_EVENT\\\",\\\"weight_column_name\\\":null,\\\"cv_split_column_names\\\":null,\\\"enable_local_managed\\\":false,\\\"_local_managed_run_id\\\":null,\\\"cost_mode\\\":1,\\\"lag_length\\\":0,\\\"metric_operation\\\":\\\"maximize\\\",\\\"preprocess\\\":true}\", \"DataPrepJsonString\": \"{\\\\\\\"training_data\\\\\\\": {\\\\\\\"datasetId\\\\\\\": \\\\\\\"b1da4fb3-ebfc-407f-8279-d27d718aa7a8\\\\\\\"}, \\\\\\\"datasets\\\\\\\": 0}\", \"EnableSubsampling\": null, \"runTemplate\": \"AutoML\", \"azureml.runsource\": \"automl\", \"display_task_type\": \"classification\", \"dependencies_versions\": \"{\\\"azureml-widgets\\\": \\\"1.30.0\\\", \\\"azureml-train\\\": \\\"1.30.0\\\", \\\"azureml-train-restclients-hyperdrive\\\": \\\"1.30.0\\\", \\\"azureml-train-core\\\": \\\"1.30.0\\\", \\\"azureml-train-automl\\\": \\\"1.30.0\\\", \\\"azureml-train-automl-runtime\\\": \\\"1.30.0\\\", \\\"azureml-train-automl-client\\\": \\\"1.30.0\\\", \\\"azureml-tensorboard\\\": \\\"1.30.0\\\", \\\"azureml-telemetry\\\": \\\"1.30.0\\\", \\\"azureml-sdk\\\": \\\"1.30.0\\\", \\\"azureml-samples\\\": \\\"0+unknown\\\", \\\"azureml-pipeline\\\": \\\"1.30.0\\\", \\\"azureml-pipeline-steps\\\": \\\"1.30.0\\\", \\\"azureml-pipeline-core\\\": \\\"1.30.0\\\", \\\"azureml-opendatasets\\\": \\\"1.30.0\\\", \\\"azureml-model-management-sdk\\\": \\\"1.0.1b6.post1\\\", \\\"azureml-mlflow\\\": \\\"1.30.0\\\", \\\"azureml-interpret\\\": \\\"1.30.0\\\", \\\"azureml-explain-model\\\": \\\"1.30.0\\\", \\\"azureml-defaults\\\": \\\"1.30.0\\\", \\\"azureml-dataset-runtime\\\": \\\"1.30.0\\\", \\\"azureml-dataprep\\\": \\\"2.15.1\\\", \\\"azureml-dataprep-rslex\\\": \\\"1.13.0\\\", \\\"azureml-dataprep-native\\\": \\\"33.0.0\\\", \\\"azureml-datadrift\\\": \\\"1.30.0\\\", \\\"azureml-core\\\": \\\"1.30.0\\\", \\\"azureml-contrib-services\\\": \\\"1.30.0\\\", \\\"azureml-contrib-server\\\": \\\"1.30.0\\\", \\\"azureml-contrib-reinforcementlearning\\\": \\\"1.30.0\\\", \\\"azureml-contrib-pipeline-steps\\\": \\\"1.30.0\\\", \\\"azureml-contrib-notebook\\\": \\\"1.30.0\\\", \\\"azureml-contrib-fairness\\\": \\\"1.30.0\\\", \\\"azureml-contrib-dataset\\\": \\\"1.30.0\\\", \\\"azureml-cli-common\\\": \\\"1.30.0\\\", \\\"azureml-automl-runtime\\\": \\\"1.30.0\\\", \\\"azureml-automl-dnn-nlp\\\": \\\"1.30.0\\\", \\\"azureml-automl-core\\\": \\\"1.30.0\\\", \\\"azureml-accel-models\\\": \\\"1.30.0\\\"}\", \"_aml_system_scenario_identification\": \"Remote.Parent\", \"ClientType\": \"SDK\", \"environment_cpu_name\": \"AzureML-AutoML\", \"environment_cpu_label\": \"prod\", \"environment_gpu_name\": \"AzureML-AutoML-GPU\", \"environment_gpu_label\": \"prod\", \"root_attribution\": \"automl\", \"attribution\": \"AutoML\", \"Orchestrator\": \"AutoML\", \"CancelUri\": \"https://southcentralus.api.azureml.ms/jasmine/v1.0/subscriptions/48a74bb7-9950-4cc1-9caa-5d50f995cc55/resourceGroups/aml-quickstarts-147669/providers/Microsoft.MachineLearningServices/workspaces/quick-starts-ws-147669/experimentids/44718e31-3bc7-485c-9b52-389f95597829/cancel/AutoML_81b2b526-2f3b-42e6-bedf-bc0687eeaed6\", \"ClientSdkVersion\": \"1.30.0\", \"snapshotId\": \"00000000-0000-0000-0000-000000000000\", \"SetupRunId\": \"AutoML_81b2b526-2f3b-42e6-bedf-bc0687eeaed6_setup\", \"SetupRunContainerId\": \"dcid.AutoML_81b2b526-2f3b-42e6-bedf-bc0687eeaed6_setup\", \"FeaturizationRunJsonPath\": \"featurizer_container.json\", \"FeaturizationRunId\": \"AutoML_81b2b526-2f3b-42e6-bedf-bc0687eeaed6_featurize\", \"ProblemInfoJsonString\": \"{\\\"dataset_num_categorical\\\": 0, \\\"is_sparse\\\": false, \\\"subsampling\\\": false, \\\"has_extra_col\\\": true, \\\"dataset_classes\\\": 2, \\\"dataset_features\\\": 12, \\\"dataset_samples\\\": 299, \\\"single_frequency_class_detected\\\": false}\", \"ModelExplainRunId\": \"AutoML_81b2b526-2f3b-42e6-bedf-bc0687eeaed6_ModelExplain\"}, \"tags\": {\"model_explain_run\": \"best_run\", \"_aml_system_azureml.automlComponent\": \"AutoML\", \"pipeline_id\": \"\", \"score\": \"\", \"predicted_cost\": \"\", \"fit_time\": \"\", \"training_percent\": \"\", \"iteration\": \"\", \"run_preprocessor\": \"\", \"run_algorithm\": \"\", \"dynamic_whitelisting_iterations\": \"<25>;<30>;<35>;\", \"automl_best_child_run_id\": \"AutoML_81b2b526-2f3b-42e6-bedf-bc0687eeaed6_38\", \"model_explain_best_run_child_id\": \"AutoML_81b2b526-2f3b-42e6-bedf-bc0687eeaed6_38\"}, \"end_time_utc\": \"2021-06-22T06:46:04.211911Z\", \"status\": \"Completed\", \"log_files\": {}, \"log_groups\": [], \"run_duration\": \"0:20:25\", \"run_number\": \"1\", \"run_queued_details\": {\"status\": \"Completed\", \"details\": null}}, \"child_runs\": [{\"run_id\": \"AutoML_81b2b526-2f3b-42e6-bedf-bc0687eeaed6_3\", \"run_number\": 5, \"metric\": null, \"status\": \"Completed\", \"run_type\": \"azureml.scriptrun\", \"training_percent\": \"100\", \"start_time\": \"2021-06-22T06:33:17.335038Z\", \"end_time\": \"2021-06-22T06:34:02.737229Z\", \"created_time\": \"2021-06-22T06:33:05.305352Z\", \"created_time_dt\": \"2021-06-22T06:33:05.305352Z\", \"duration\": \"0:00:57\", \"iteration\": \"3\", \"goal\": \"accuracy_max\", \"run_name\": \"MinMaxScaler, RandomForest\", \"run_properties\": \"copy=True, feature_range=(0, 1\", \"primary_metric\": 0.83264368, \"best_metric\": 0.83597701}, {\"run_id\": \"AutoML_81b2b526-2f3b-42e6-bedf-bc0687eeaed6_0\", \"run_number\": 6, \"metric\": null, \"status\": \"Completed\", \"run_type\": \"azureml.scriptrun\", \"training_percent\": \"100\", \"start_time\": \"2021-06-22T06:34:21.143461Z\", \"end_time\": \"2021-06-22T06:35:06.747294Z\", \"created_time\": \"2021-06-22T06:33:05.317463Z\", \"created_time_dt\": \"2021-06-22T06:33:05.317463Z\", \"duration\": \"0:02:01\", \"iteration\": \"0\", \"goal\": \"accuracy_max\", \"run_name\": \"MaxAbsScaler, LightGBM\", \"run_properties\": \"copy=True\", \"primary_metric\": 0.83597701, \"best_metric\": 0.83597701}, {\"run_id\": \"AutoML_81b2b526-2f3b-42e6-bedf-bc0687eeaed6_4\", \"run_number\": 7, \"metric\": null, \"status\": \"Completed\", \"run_type\": \"azureml.scriptrun\", \"training_percent\": \"100\", \"start_time\": \"2021-06-22T06:35:02.979864Z\", \"end_time\": \"2021-06-22T06:38:13.458025Z\", \"created_time\": \"2021-06-22T06:33:05.327568Z\", \"created_time_dt\": \"2021-06-22T06:33:05.327568Z\", \"duration\": \"0:05:08\", \"iteration\": \"4\", \"goal\": \"accuracy_max\", \"run_name\": \"MinMaxScaler, RandomForest\", \"run_properties\": \"copy=True, feature_range=(0, 1\", \"primary_metric\": 0.82264368, \"best_metric\": 0.83597701}, {\"run_id\": \"AutoML_81b2b526-2f3b-42e6-bedf-bc0687eeaed6_1\", \"run_number\": 8, \"metric\": null, \"status\": \"Completed\", \"run_type\": \"azureml.scriptrun\", \"training_percent\": \"100\", \"start_time\": \"2021-06-22T06:34:59.218809Z\", \"end_time\": \"2021-06-22T06:37:34.81663Z\", \"created_time\": \"2021-06-22T06:33:05.349257Z\", \"created_time_dt\": \"2021-06-22T06:33:05.349257Z\", \"duration\": \"0:04:29\", \"iteration\": \"1\", \"goal\": \"accuracy_max\", \"run_name\": \"MaxAbsScaler, XGBoostClassifier\", \"run_properties\": \"copy=True\", \"primary_metric\": 0.83586207, \"best_metric\": 0.83597701}, {\"run_id\": \"AutoML_81b2b526-2f3b-42e6-bedf-bc0687eeaed6_2\", \"run_number\": 9, \"metric\": null, \"status\": \"Completed\", \"run_type\": \"azureml.scriptrun\", \"training_percent\": \"100\", \"start_time\": \"2021-06-22T06:35:03.453907Z\", \"end_time\": \"2021-06-22T06:37:47.67291Z\", \"created_time\": \"2021-06-22T06:33:05.321709Z\", \"created_time_dt\": \"2021-06-22T06:33:05.321709Z\", \"duration\": \"0:04:42\", \"iteration\": \"2\", \"goal\": \"accuracy_max\", \"run_name\": \"MinMaxScaler, RandomForest\", \"run_properties\": \"copy=True, feature_range=(0, 1\", \"primary_metric\": 0.82586207, \"best_metric\": 0.83597701}, {\"run_id\": \"AutoML_81b2b526-2f3b-42e6-bedf-bc0687eeaed6_5\", \"run_number\": 10, \"metric\": null, \"status\": \"Completed\", \"run_type\": \"azureml.scriptrun\", \"training_percent\": \"100\", \"start_time\": \"2021-06-22T06:35:21.512892Z\", \"end_time\": \"2021-06-22T06:36:03.422492Z\", \"created_time\": \"2021-06-22T06:34:06.134637Z\", \"created_time_dt\": \"2021-06-22T06:34:06.134637Z\", \"duration\": \"0:01:57\", \"iteration\": \"5\", \"goal\": \"accuracy_max\", \"run_name\": \"StandardScalerWrapper, LogisticRegression\", \"run_properties\": \"\\n    copy=True,\\n    with_mean=True,\\n    with_std=True\\n\", \"primary_metric\": 0.79252874, \"best_metric\": 0.83597701}, {\"run_id\": \"AutoML_81b2b526-2f3b-42e6-bedf-bc0687eeaed6_6\", \"run_number\": 11, \"metric\": null, \"status\": \"Completed\", \"run_type\": \"azureml.scriptrun\", \"training_percent\": \"100\", \"start_time\": \"2021-06-22T06:36:16.630623Z\", \"end_time\": \"2021-06-22T06:37:04.051717Z\", \"created_time\": \"2021-06-22T06:35:09.996952Z\", \"created_time_dt\": \"2021-06-22T06:35:09.996952Z\", \"duration\": \"0:01:54\", \"iteration\": \"6\", \"goal\": \"accuracy_max\", \"run_name\": \"StandardScalerWrapper, LightGBM\", \"run_properties\": \"\\n    copy=True,\\n    with_mean=True,\\n    with_std=True\\n\", \"primary_metric\": 0.84574713, \"best_metric\": 0.84574713}, {\"run_id\": \"AutoML_81b2b526-2f3b-42e6-bedf-bc0687eeaed6_7\", \"run_number\": 12, \"metric\": null, \"status\": \"Completed\", \"run_type\": \"azureml.scriptrun\", \"training_percent\": \"100\", \"start_time\": \"2021-06-22T06:37:19.518114Z\", \"end_time\": \"2021-06-22T06:38:00.854941Z\", \"created_time\": \"2021-06-22T06:36:06.200106Z\", \"created_time_dt\": \"2021-06-22T06:36:06.200106Z\", \"duration\": \"0:01:54\", \"iteration\": \"7\", \"goal\": \"accuracy_max\", \"run_name\": \"SparseNormalizer, XGBoostClassifier\", \"run_properties\": \"copy=True, norm='l1'\", \"primary_metric\": 0.80931034, \"best_metric\": 0.84574713}, {\"run_id\": \"AutoML_81b2b526-2f3b-42e6-bedf-bc0687eeaed6_8\", \"run_number\": 13, \"metric\": null, \"status\": \"Completed\", \"run_type\": \"azureml.scriptrun\", \"training_percent\": \"100\", \"start_time\": \"2021-06-22T06:37:56.492647Z\", \"end_time\": \"2021-06-22T06:38:39.669338Z\", \"created_time\": \"2021-06-22T06:37:06.493787Z\", \"created_time_dt\": \"2021-06-22T06:37:06.493787Z\", \"duration\": \"0:01:33\", \"iteration\": \"8\", \"goal\": \"accuracy_max\", \"run_name\": \"SparseNormalizer, XGBoostClassifier\", \"run_properties\": \"copy=True, norm='l2'\", \"primary_metric\": 0.83275862, \"best_metric\": 0.84574713}, {\"run_id\": \"AutoML_81b2b526-2f3b-42e6-bedf-bc0687eeaed6_9\", \"run_number\": 14, \"metric\": null, \"status\": \"Completed\", \"run_type\": \"azureml.scriptrun\", \"training_percent\": \"100\", \"start_time\": \"2021-06-22T06:38:05.136579Z\", \"end_time\": \"2021-06-22T06:38:49.274198Z\", \"created_time\": \"2021-06-22T06:37:37.340716Z\", \"created_time_dt\": \"2021-06-22T06:37:37.340716Z\", \"duration\": \"0:01:11\", \"iteration\": \"9\", \"goal\": \"accuracy_max\", \"run_name\": \"SparseNormalizer, XGBoostClassifier\", \"run_properties\": \"copy=True, norm='l2'\", \"primary_metric\": 0.82287356, \"best_metric\": 0.84574713}, {\"run_id\": \"AutoML_81b2b526-2f3b-42e6-bedf-bc0687eeaed6_10\", \"run_number\": 15, \"metric\": null, \"status\": \"Completed\", \"run_type\": \"azureml.scriptrun\", \"training_percent\": \"100\", \"start_time\": \"2021-06-22T06:38:16.088368Z\", \"end_time\": \"2021-06-22T06:39:02.759604Z\", \"created_time\": \"2021-06-22T06:37:49.882855Z\", \"created_time_dt\": \"2021-06-22T06:37:49.882855Z\", \"duration\": \"0:01:12\", \"iteration\": \"10\", \"goal\": \"accuracy_max\", \"run_name\": \"SparseNormalizer, XGBoostClassifier\", \"run_properties\": \"copy=True, norm='max'\", \"primary_metric\": 0.85275862, \"best_metric\": 0.85275862}, {\"run_id\": \"AutoML_81b2b526-2f3b-42e6-bedf-bc0687eeaed6_11\", \"run_number\": 16, \"metric\": null, \"status\": \"Completed\", \"run_type\": \"azureml.scriptrun\", \"training_percent\": \"100\", \"start_time\": \"2021-06-22T06:38:27.400103Z\", \"end_time\": \"2021-06-22T06:39:13.607782Z\", \"created_time\": \"2021-06-22T06:38:03.140584Z\", \"created_time_dt\": \"2021-06-22T06:38:03.140584Z\", \"duration\": \"0:01:10\", \"iteration\": \"11\", \"goal\": \"accuracy_max\", \"run_name\": \"StandardScalerWrapper, XGBoostClassifier\", \"run_properties\": \"\\n    copy=True,\\n    with_mean=False,\\n    with_std=False\\n\", \"primary_metric\": 0.81954023, \"best_metric\": 0.85275862}, {\"run_id\": \"AutoML_81b2b526-2f3b-42e6-bedf-bc0687eeaed6_12\", \"run_number\": 17, \"metric\": null, \"status\": \"Completed\", \"run_type\": \"azureml.scriptrun\", \"training_percent\": \"100\", \"start_time\": \"2021-06-22T06:38:51.638043Z\", \"end_time\": \"2021-06-22T06:39:34.725222Z\", \"created_time\": \"2021-06-22T06:38:15.383845Z\", \"created_time_dt\": \"2021-06-22T06:38:15.383845Z\", \"duration\": \"0:01:19\", \"iteration\": \"12\", \"goal\": \"accuracy_max\", \"run_name\": \"StandardScalerWrapper, RandomForest\", \"run_properties\": \"\\n    copy=True,\\n    with_mean=False,\\n    with_std=True\\n\", \"primary_metric\": 0.84942529, \"best_metric\": 0.85275862}, {\"run_id\": \"AutoML_81b2b526-2f3b-42e6-bedf-bc0687eeaed6_13\", \"run_number\": 18, \"metric\": null, \"status\": \"Completed\", \"run_type\": \"azureml.scriptrun\", \"training_percent\": \"100\", \"start_time\": \"2021-06-22T06:39:04.563553Z\", \"end_time\": \"2021-06-22T06:39:46.85474Z\", \"created_time\": \"2021-06-22T06:38:42.914006Z\", \"created_time_dt\": \"2021-06-22T06:38:42.914006Z\", \"duration\": \"0:01:03\", \"iteration\": \"13\", \"goal\": \"accuracy_max\", \"run_name\": \"StandardScalerWrapper, LightGBM\", \"run_properties\": \"\\n    copy=True,\\n    with_mean=True,\\n    with_std=True\\n\", \"primary_metric\": 0.84264368, \"best_metric\": 0.85275862}, {\"run_id\": \"AutoML_81b2b526-2f3b-42e6-bedf-bc0687eeaed6_14\", \"run_number\": 19, \"metric\": null, \"status\": \"Completed\", \"run_type\": \"azureml.scriptrun\", \"training_percent\": \"100\", \"start_time\": \"2021-06-22T06:39:15.190901Z\", \"end_time\": \"2021-06-22T06:40:01.13617Z\", \"created_time\": \"2021-06-22T06:38:51.246551Z\", \"created_time_dt\": \"2021-06-22T06:38:51.246551Z\", \"duration\": \"0:01:09\", \"iteration\": \"14\", \"goal\": \"accuracy_max\", \"run_name\": \"SparseNormalizer, XGBoostClassifier\", \"run_properties\": \"copy=True, norm='l1'\", \"primary_metric\": 0.86632184, \"best_metric\": 0.86632184}, {\"run_id\": \"AutoML_81b2b526-2f3b-42e6-bedf-bc0687eeaed6_15\", \"run_number\": 20, \"metric\": null, \"status\": \"Completed\", \"run_type\": \"azureml.scriptrun\", \"training_percent\": \"100\", \"start_time\": \"2021-06-22T06:39:30.509521Z\", \"end_time\": \"2021-06-22T06:40:14.177112Z\", \"created_time\": \"2021-06-22T06:39:04.667719Z\", \"created_time_dt\": \"2021-06-22T06:39:04.667719Z\", \"duration\": \"0:01:09\", \"iteration\": \"15\", \"goal\": \"accuracy_max\", \"run_name\": \"RobustScaler, LightGBM\", \"run_properties\": \"copy=True, quantile_range=[25, 75], with_centering=True,\\n             with_scaling=True\", \"primary_metric\": 0.82252874, \"best_metric\": 0.86632184}, {\"run_id\": \"AutoML_81b2b526-2f3b-42e6-bedf-bc0687eeaed6_16\", \"run_number\": 21, \"metric\": null, \"status\": \"Completed\", \"run_type\": \"azureml.scriptrun\", \"training_percent\": \"100\", \"start_time\": \"2021-06-22T06:39:53.909828Z\", \"end_time\": \"2021-06-22T06:40:37.775465Z\", \"created_time\": \"2021-06-22T06:39:15.605128Z\", \"created_time_dt\": \"2021-06-22T06:39:15.605128Z\", \"duration\": \"0:01:22\", \"iteration\": \"16\", \"goal\": \"accuracy_max\", \"run_name\": \"MinMaxScaler, LightGBM\", \"run_properties\": \"copy=True, feature_range=(0, 1\", \"primary_metric\": 0.82609195, \"best_metric\": 0.86632184}, {\"run_id\": \"AutoML_81b2b526-2f3b-42e6-bedf-bc0687eeaed6_17\", \"run_number\": 22, \"metric\": null, \"status\": \"Completed\", \"run_type\": \"azureml.scriptrun\", \"training_percent\": \"100\", \"start_time\": \"2021-06-22T06:40:01.180373Z\", \"end_time\": \"2021-06-22T06:40:47.197027Z\", \"created_time\": \"2021-06-22T06:39:36.720504Z\", \"created_time_dt\": \"2021-06-22T06:39:36.720504Z\", \"duration\": \"0:01:10\", \"iteration\": \"17\", \"goal\": \"accuracy_max\", \"run_name\": \"MaxAbsScaler, LightGBM\", \"run_properties\": \"copy=True\", \"primary_metric\": 0.75931034, \"best_metric\": 0.86632184}, {\"run_id\": \"AutoML_81b2b526-2f3b-42e6-bedf-bc0687eeaed6_18\", \"run_number\": 23, \"metric\": null, \"status\": \"Completed\", \"run_type\": \"azureml.scriptrun\", \"training_percent\": \"100\", \"start_time\": \"2021-06-22T06:40:14.416091Z\", \"end_time\": \"2021-06-22T06:41:01.212934Z\", \"created_time\": \"2021-06-22T06:39:48.724553Z\", \"created_time_dt\": \"2021-06-22T06:39:48.724553Z\", \"duration\": \"0:01:12\", \"iteration\": \"18\", \"goal\": \"accuracy_max\", \"run_name\": \"SparseNormalizer, XGBoostClassifier\", \"run_properties\": \"copy=True, norm='l2'\", \"primary_metric\": 0.85275862, \"best_metric\": 0.86632184}, {\"run_id\": \"AutoML_81b2b526-2f3b-42e6-bedf-bc0687eeaed6_19\", \"run_number\": 24, \"metric\": null, \"status\": \"Completed\", \"run_type\": \"azureml.scriptrun\", \"training_percent\": \"100\", \"start_time\": \"2021-06-22T06:40:28.757137Z\", \"end_time\": \"2021-06-22T06:41:15.510952Z\", \"created_time\": \"2021-06-22T06:40:03.050486Z\", \"created_time_dt\": \"2021-06-22T06:40:03.050486Z\", \"duration\": \"0:01:12\", \"iteration\": \"19\", \"goal\": \"accuracy_max\", \"run_name\": \"MaxAbsScaler, LightGBM\", \"run_properties\": \"copy=True\", \"primary_metric\": 0.83586207, \"best_metric\": 0.86632184}, {\"run_id\": \"AutoML_81b2b526-2f3b-42e6-bedf-bc0687eeaed6_20\", \"run_number\": 25, \"metric\": null, \"status\": \"Completed\", \"run_type\": \"azureml.scriptrun\", \"training_percent\": \"100\", \"start_time\": \"2021-06-22T06:40:52.882016Z\", \"end_time\": \"2021-06-22T06:41:36.039494Z\", \"created_time\": \"2021-06-22T06:40:16.161243Z\", \"created_time_dt\": \"2021-06-22T06:40:16.161243Z\", \"duration\": \"0:01:19\", \"iteration\": \"20\", \"goal\": \"accuracy_max\", \"run_name\": \"StandardScalerWrapper, ExtremeRandomTrees\", \"run_properties\": \"\\n    copy=True,\\n    with_mean=True,\\n    with_std=True\\n\", \"primary_metric\": 0.84609195, \"best_metric\": 0.86632184}, {\"run_id\": \"AutoML_81b2b526-2f3b-42e6-bedf-bc0687eeaed6_21\", \"run_number\": 26, \"metric\": null, \"status\": \"Completed\", \"run_type\": \"azureml.scriptrun\", \"training_percent\": \"100\", \"start_time\": \"2021-06-22T06:41:02.384426Z\", \"end_time\": \"2021-06-22T06:41:47.7704Z\", \"created_time\": \"2021-06-22T06:40:39.744916Z\", \"created_time_dt\": \"2021-06-22T06:40:39.744916Z\", \"duration\": \"0:01:08\", \"iteration\": \"21\", \"goal\": \"accuracy_max\", \"run_name\": \"RobustScaler, LightGBM\", \"run_properties\": \"copy=True, quantile_range=[10, 90], with_centering=False,\\n             with_scaling=False\", \"primary_metric\": 0.79942529, \"best_metric\": 0.86632184}, {\"run_id\": \"AutoML_81b2b526-2f3b-42e6-bedf-bc0687eeaed6_22\", \"run_number\": 27, \"metric\": null, \"status\": \"Completed\", \"run_type\": \"azureml.scriptrun\", \"training_percent\": \"100\", \"start_time\": \"2021-06-22T06:41:13.628442Z\", \"end_time\": \"2021-06-22T06:41:59.626015Z\", \"created_time\": \"2021-06-22T06:40:49.406552Z\", \"created_time_dt\": \"2021-06-22T06:40:49.406552Z\", \"duration\": \"0:01:10\", \"iteration\": \"22\", \"goal\": \"accuracy_max\", \"run_name\": \"StandardScalerWrapper, LightGBM\", \"run_properties\": \"\\n    copy=True,\\n    with_mean=True,\\n    with_std=True\\n\", \"primary_metric\": 0.77252874, \"best_metric\": 0.86632184}, {\"run_id\": \"AutoML_81b2b526-2f3b-42e6-bedf-bc0687eeaed6_23\", \"run_number\": 28, \"metric\": null, \"status\": \"Completed\", \"run_type\": \"azureml.scriptrun\", \"training_percent\": \"100\", \"start_time\": \"2021-06-22T06:41:29.492454Z\", \"end_time\": \"2021-06-22T06:42:16.313276Z\", \"created_time\": \"2021-06-22T06:41:03.205405Z\", \"created_time_dt\": \"2021-06-22T06:41:03.205405Z\", \"duration\": \"0:01:13\", \"iteration\": \"23\", \"goal\": \"accuracy_max\", \"run_name\": \"SparseNormalizer, XGBoostClassifier\", \"run_properties\": \"copy=True, norm='max'\", \"primary_metric\": 0.81931034, \"best_metric\": 0.86632184}, {\"run_id\": \"AutoML_81b2b526-2f3b-42e6-bedf-bc0687eeaed6_24\", \"run_number\": 29, \"metric\": null, \"status\": \"Completed\", \"run_type\": \"azureml.scriptrun\", \"training_percent\": \"100\", \"start_time\": \"2021-06-22T06:41:51.191016Z\", \"end_time\": \"2021-06-22T06:42:33.694046Z\", \"created_time\": \"2021-06-22T06:41:17.303584Z\", \"created_time_dt\": \"2021-06-22T06:41:17.303584Z\", \"duration\": \"0:01:16\", \"iteration\": \"24\", \"goal\": \"accuracy_max\", \"run_name\": \"MinMaxScaler, LightGBM\", \"run_properties\": \"copy=True, feature_range=(0, 1\", \"primary_metric\": 0.84252874, \"best_metric\": 0.86632184}, {\"run_id\": \"AutoML_81b2b526-2f3b-42e6-bedf-bc0687eeaed6_25\", \"run_number\": 30, \"metric\": null, \"status\": \"Completed\", \"run_type\": \"azureml.scriptrun\", \"training_percent\": \"100\", \"start_time\": \"2021-06-22T06:42:03.441945Z\", \"end_time\": \"2021-06-22T06:42:46.4626Z\", \"created_time\": \"2021-06-22T06:41:39.821459Z\", \"created_time_dt\": \"2021-06-22T06:41:39.821459Z\", \"duration\": \"0:01:06\", \"iteration\": \"25\", \"goal\": \"accuracy_max\", \"run_name\": \"TruncatedSVDWrapper, XGBoostClassifier\", \"run_properties\": \"n_components=0.2573684210526316, random_state=None\", \"primary_metric\": 0.6791954, \"best_metric\": 0.86632184}, {\"run_id\": \"AutoML_81b2b526-2f3b-42e6-bedf-bc0687eeaed6_26\", \"run_number\": 31, \"metric\": null, \"status\": \"Completed\", \"run_type\": \"azureml.scriptrun\", \"training_percent\": \"100\", \"start_time\": \"2021-06-22T06:42:11.145252Z\", \"end_time\": \"2021-06-22T06:42:59.623153Z\", \"created_time\": \"2021-06-22T06:41:49.661581Z\", \"created_time_dt\": \"2021-06-22T06:41:49.661581Z\", \"duration\": \"0:01:09\", \"iteration\": \"26\", \"goal\": \"accuracy_max\", \"run_name\": \"SparseNormalizer, XGBoostClassifier\", \"run_properties\": \"copy=True, norm='l2'\", \"primary_metric\": 0.84597701, \"best_metric\": 0.86632184}, {\"run_id\": \"AutoML_81b2b526-2f3b-42e6-bedf-bc0687eeaed6_27\", \"run_number\": 32, \"metric\": null, \"status\": \"Completed\", \"run_type\": \"azureml.scriptrun\", \"training_percent\": \"100\", \"start_time\": \"2021-06-22T06:42:29.465551Z\", \"end_time\": \"2021-06-22T06:43:13.662249Z\", \"created_time\": \"2021-06-22T06:42:01.331204Z\", \"created_time_dt\": \"2021-06-22T06:42:01.331204Z\", \"duration\": \"0:01:12\", \"iteration\": \"27\", \"goal\": \"accuracy_max\", \"run_name\": \"SparseNormalizer, XGBoostClassifier\", \"run_properties\": \"copy=True, norm='l1'\", \"primary_metric\": 0.8362069, \"best_metric\": 0.86632184}, {\"run_id\": \"AutoML_81b2b526-2f3b-42e6-bedf-bc0687eeaed6_28\", \"run_number\": 33, \"metric\": null, \"status\": \"Completed\", \"run_type\": \"azureml.scriptrun\", \"training_percent\": \"100\", \"start_time\": \"2021-06-22T06:42:48.824181Z\", \"end_time\": \"2021-06-22T06:43:33.775036Z\", \"created_time\": \"2021-06-22T06:42:18.1407Z\", \"created_time_dt\": \"2021-06-22T06:42:18.1407Z\", \"duration\": \"0:01:15\", \"iteration\": \"28\", \"goal\": \"accuracy_max\", \"run_name\": \"MinMaxScaler, RandomForest\", \"run_properties\": \"copy=True, feature_range=(0, 1\", \"primary_metric\": 0.81586207, \"best_metric\": 0.86632184}, {\"run_id\": \"AutoML_81b2b526-2f3b-42e6-bedf-bc0687eeaed6_29\", \"run_number\": 34, \"metric\": null, \"status\": \"Completed\", \"run_type\": \"azureml.scriptrun\", \"training_percent\": \"100\", \"start_time\": \"2021-06-22T06:42:59.211063Z\", \"end_time\": \"2021-06-22T06:43:48.301377Z\", \"created_time\": \"2021-06-22T06:42:35.516582Z\", \"created_time_dt\": \"2021-06-22T06:42:35.516582Z\", \"duration\": \"0:01:12\", \"iteration\": \"29\", \"goal\": \"accuracy_max\", \"run_name\": \"MinMaxScaler, LightGBM\", \"run_properties\": \"copy=True, feature_range=(0, 1\", \"primary_metric\": 0.84275862, \"best_metric\": 0.86632184}, {\"run_id\": \"AutoML_81b2b526-2f3b-42e6-bedf-bc0687eeaed6_30\", \"run_number\": 35, \"metric\": null, \"status\": \"Completed\", \"run_type\": \"azureml.scriptrun\", \"training_percent\": \"100\", \"start_time\": \"2021-06-22T06:43:12.686744Z\", \"end_time\": \"2021-06-22T06:43:55.601622Z\", \"created_time\": \"2021-06-22T06:42:49.515168Z\", \"created_time_dt\": \"2021-06-22T06:42:49.515168Z\", \"duration\": \"0:01:06\", \"iteration\": \"30\", \"goal\": \"accuracy_max\", \"run_name\": \"PCA, XGBoostClassifier\", \"run_properties\": \"copy=True, iterated_power='auto', n_components=0.40578947368421053,\\n    random_state=None, svd_solver='auto', tol=0.0, whiten=False\", \"primary_metric\": 0.6791954, \"best_metric\": 0.86632184}, {\"run_id\": \"AutoML_81b2b526-2f3b-42e6-bedf-bc0687eeaed6_31\", \"run_number\": 36, \"metric\": null, \"status\": \"Completed\", \"run_type\": \"azureml.scriptrun\", \"training_percent\": \"100\", \"start_time\": \"2021-06-22T06:43:27.14366Z\", \"end_time\": \"2021-06-22T06:44:13.922103Z\", \"created_time\": \"2021-06-22T06:43:01.634961Z\", \"created_time_dt\": \"2021-06-22T06:43:01.634961Z\", \"duration\": \"0:01:12\", \"iteration\": \"31\", \"goal\": \"accuracy_max\", \"run_name\": \"MinMaxScaler, LightGBM\", \"run_properties\": \"copy=True, feature_range=(0, 1\", \"primary_metric\": 0.74252874, \"best_metric\": 0.86632184}, {\"run_id\": \"AutoML_81b2b526-2f3b-42e6-bedf-bc0687eeaed6_32\", \"run_number\": 37, \"metric\": null, \"status\": \"Completed\", \"run_type\": \"azureml.scriptrun\", \"training_percent\": \"100\", \"start_time\": \"2021-06-22T06:43:48.773428Z\", \"end_time\": \"2021-06-22T06:44:34.451186Z\", \"created_time\": \"2021-06-22T06:43:15.576558Z\", \"created_time_dt\": \"2021-06-22T06:43:15.576558Z\", \"duration\": \"0:01:18\", \"iteration\": \"32\", \"goal\": \"accuracy_max\", \"run_name\": \"SparseNormalizer, XGBoostClassifier\", \"run_properties\": \"copy=True, norm='max'\", \"primary_metric\": 0.84954023, \"best_metric\": 0.86632184}, {\"run_id\": \"AutoML_81b2b526-2f3b-42e6-bedf-bc0687eeaed6_33\", \"run_number\": 38, \"metric\": null, \"status\": \"Completed\", \"run_type\": \"azureml.scriptrun\", \"training_percent\": \"100\", \"start_time\": \"2021-06-22T06:44:04.052224Z\", \"end_time\": \"2021-06-22T06:44:45.235753Z\", \"created_time\": \"2021-06-22T06:43:35.696038Z\", \"created_time_dt\": \"2021-06-22T06:43:35.696038Z\", \"duration\": \"0:01:09\", \"iteration\": \"33\", \"goal\": \"accuracy_max\", \"run_name\": \"SparseNormalizer, XGBoostClassifier\", \"run_properties\": \"copy=True, norm='l2'\", \"primary_metric\": 0.8462069, \"best_metric\": 0.86632184}, {\"run_id\": \"AutoML_81b2b526-2f3b-42e6-bedf-bc0687eeaed6_34\", \"run_number\": 39, \"metric\": null, \"status\": \"Canceled\", \"run_type\": \"azureml.scriptrun\", \"training_percent\": \"100\", \"start_time\": \"2021-06-22T06:44:08.791554Z\", \"end_time\": \"2021-06-22T06:44:51.520445Z\", \"created_time\": \"2021-06-22T06:43:50.123267Z\", \"created_time_dt\": \"2021-06-22T06:43:50.123267Z\", \"duration\": \"0:01:01\", \"iteration\": \"34\", \"goal\": \"accuracy_max\", \"run_name\": \"StandardScalerWrapper, LightGBM\", \"run_properties\": \"\\n    copy=True,\\n    with_mean=False,\\n    with_std=False\\n\", \"primary_metric\": 0.79252874, \"best_metric\": 0.86632184}, {\"run_id\": \"AutoML_81b2b526-2f3b-42e6-bedf-bc0687eeaed6_35\", \"run_number\": 40, \"metric\": null, \"status\": \"Canceled\", \"run_type\": \"azureml.scriptrun\", \"training_percent\": \"100\", \"start_time\": \"2021-06-22T06:44:26.875139Z\", \"end_time\": \"2021-06-22T06:44:51.529964Z\", \"created_time\": \"2021-06-22T06:43:58.497876Z\", \"created_time_dt\": \"2021-06-22T06:43:58.497876Z\", \"duration\": \"0:00:53\", \"iteration\": \"35\", \"goal\": null, \"run_name\": \"StandardScalerWrapper, XGBoostClassifier\", \"run_properties\": null, \"primary_metric\": 0.82574713, \"best_metric\": 0.86632184}, {\"run_id\": \"AutoML_81b2b526-2f3b-42e6-bedf-bc0687eeaed6_36\", \"run_number\": 41, \"metric\": null, \"status\": \"Canceled\", \"run_type\": \"azureml.scriptrun\", \"training_percent\": \"100\", \"start_time\": \"2021-06-22T06:44:16.30852Z\", \"end_time\": \"2021-06-22T06:44:51.728299Z\", \"created_time\": \"2021-06-22T06:44:16.30852Z\", \"created_time_dt\": \"2021-06-22T06:44:16.30852Z\", \"duration\": \"0:00:35\", \"iteration\": \"36\", \"goal\": null, \"run_name\": \"Canceled\", \"run_properties\": null}, {\"run_id\": \"AutoML_81b2b526-2f3b-42e6-bedf-bc0687eeaed6_37\", \"run_number\": 42, \"metric\": null, \"status\": \"Canceled\", \"run_type\": \"azureml.scriptrun\", \"training_percent\": \"100\", \"start_time\": \"2021-06-22T06:44:36.664979Z\", \"end_time\": \"2021-06-22T06:44:51.939786Z\", \"created_time\": \"2021-06-22T06:44:36.664979Z\", \"created_time_dt\": \"2021-06-22T06:44:36.664979Z\", \"duration\": \"0:00:15\", \"iteration\": \"37\", \"goal\": null, \"run_name\": \"Canceled\", \"run_properties\": null}, {\"run_id\": \"AutoML_81b2b526-2f3b-42e6-bedf-bc0687eeaed6_38\", \"run_number\": 43, \"metric\": null, \"status\": \"Completed\", \"run_type\": \"azureml.scriptrun\", \"training_percent\": \"100\", \"start_time\": \"2021-06-22T06:45:00.898621Z\", \"end_time\": \"2021-06-22T06:46:02.581263Z\", \"created_time\": \"2021-06-22T06:44:53.098697Z\", \"created_time_dt\": \"2021-06-22T06:44:53.098697Z\", \"duration\": \"0:01:09\", \"iteration\": \"38\", \"goal\": \"accuracy_max\", \"run_name\": \"VotingEnsemble\", \"run_properties\": \"\\n    estimators=[('14', Pipeline(memory=None,\\n             steps=[('sparsenormalizer', Normalizer(copy=True, norm='l1'\", \"primary_metric\": 0.87632184, \"best_metric\": 0.87632184}, {\"run_id\": \"AutoML_81b2b526-2f3b-42e6-bedf-bc0687eeaed6_39\", \"run_number\": 44, \"metric\": null, \"status\": \"Completed\", \"run_type\": \"azureml.scriptrun\", \"training_percent\": \"100\", \"start_time\": \"2021-06-22T06:45:00.901656Z\", \"end_time\": \"2021-06-22T06:46:02.515047Z\", \"created_time\": \"2021-06-22T06:44:53.145307Z\", \"created_time_dt\": \"2021-06-22T06:44:53.145307Z\", \"duration\": \"0:01:09\", \"iteration\": \"39\", \"goal\": \"accuracy_max\", \"run_name\": \"StackEnsemble\", \"run_properties\": \"\\n    base_learners=[('14', Pipeline(memory=None,\\n             steps=[('sparsenormalizer', Normalizer(copy=True, norm='l1'\", \"primary_metric\": 0.86275862, \"best_metric\": 0.87632184}], \"children_metrics\": {\"categories\": [0], \"series\": {\"balanced_accuracy\": [{\"categories\": [\"0\", \"1\", \"2\", \"3\", \"4\", \"5\", \"6\", \"7\", \"8\", \"9\", \"10\", \"11\", \"12\", \"13\", \"14\", \"15\", \"16\", \"17\", \"18\", \"19\", \"20\", \"21\", \"22\", \"23\", \"24\", \"25\", \"26\", \"27\", \"28\", \"29\", \"30\", \"31\", \"32\", \"33\", \"34\", \"35\", \"38\", \"39\"], \"mode\": \"markers\", \"name\": \"balanced_accuracy\", \"stepped\": false, \"type\": \"scatter\", \"data\": [0.8077082895810014, 0.8130249020938379, 0.7939158159727382, 0.7875307690339154, 0.8100001147466823, 0.7890289850944885, 0.8215065987597452, 0.758680183247975, 0.7918168440699906, 0.785013547950905, 0.8249389485736739, 0.7603868201465456, 0.8089802004187016, 0.8159942383131742, 0.8423069139416393, 0.7908803996981915, 0.7600986119779026, 0.6307160894660895, 0.8180780178377433, 0.8151234818766284, 0.7840303760884424, 0.7010534859876965, 0.663176109740755, 0.7680542178073643, 0.8198020533051998, 0.5, 0.8115341961623426, 0.8095071398852862, 0.7892414158749972, 0.8070178674618033, 0.5, 0.597303391053391, 0.821675790678937, 0.812073423017359, 0.721146496841577, 0.8108507546039011, 0.8487553266400519, 0.8360227375916734]}, {\"categories\": [\"0\", \"1\", \"2\", \"3\", \"4\", \"5\", \"6\", \"7\", \"8\", \"9\", \"10\", \"11\", \"12\", \"13\", \"14\", \"15\", \"16\", \"17\", \"18\", \"19\", \"20\", \"21\", \"22\", \"23\", \"24\", \"25\", \"26\", \"27\", \"28\", \"29\", \"30\", \"31\", \"32\", \"33\", \"34\", \"35\", \"38\", \"39\"], \"mode\": \"lines\", \"name\": \"balanced_accuracy_max\", \"stepped\": true, \"type\": \"scatter\", \"data\": [0.8077082895810014, 0.8130249020938379, 0.8130249020938379, 0.8130249020938379, 0.8130249020938379, 0.8130249020938379, 0.8215065987597452, 0.8215065987597452, 0.8215065987597452, 0.8215065987597452, 0.8249389485736739, 0.8249389485736739, 0.8249389485736739, 0.8249389485736739, 0.8423069139416393, 0.8423069139416393, 0.8423069139416393, 0.8423069139416393, 0.8423069139416393, 0.8423069139416393, 0.8423069139416393, 0.8423069139416393, 0.8423069139416393, 0.8423069139416393, 0.8423069139416393, 0.8423069139416393, 0.8423069139416393, 0.8423069139416393, 0.8423069139416393, 0.8423069139416393, 0.8423069139416393, 0.8423069139416393, 0.8423069139416393, 0.8423069139416393, 0.8423069139416393, 0.8423069139416393, 0.8487553266400519, 0.8487553266400519]}], \"f1_score_micro\": [{\"categories\": [\"0\", \"1\", \"2\", \"3\", \"4\", \"5\", \"6\", \"7\", \"8\", \"9\", \"10\", \"11\", \"12\", \"13\", \"14\", \"15\", \"16\", \"17\", \"18\", \"19\", \"20\", \"21\", \"22\", \"23\", \"24\", \"25\", \"26\", \"27\", \"28\", \"29\", \"30\", \"31\", \"32\", \"33\", \"34\", \"35\", \"38\", \"39\"], \"mode\": \"markers\", \"name\": \"f1_score_micro\", \"stepped\": false, \"type\": \"scatter\", \"data\": [0.8359770114942527, 0.8358620689655172, 0.8258620689655171, 0.8326436781609194, 0.8226436781609194, 0.792528735632184, 0.8457471264367816, 0.8093103448275862, 0.8327586206896551, 0.8228735632183908, 0.8527586206896551, 0.8195402298850574, 0.8494252873563217, 0.8426436781609195, 0.8663218390804598, 0.822528735632184, 0.8260919540229885, 0.7593103448275862, 0.8527586206896552, 0.8358620689655172, 0.8460919540229886, 0.7994252873563219, 0.7725287356321839, 0.8193103448275861, 0.8425287356321839, 0.6791954022988507, 0.8459770114942529, 0.8362068965517242, 0.8158620689655173, 0.8427586206896551, 0.6791954022988507, 0.7425287356321839, 0.8495402298850575, 0.8462068965517242, 0.7925287356321838, 0.8257471264367817, 0.8763218390804598, 0.8627586206896553]}, {\"categories\": [\"0\", \"1\", \"2\", \"3\", \"4\", \"5\", \"6\", \"7\", \"8\", \"9\", \"10\", \"11\", \"12\", \"13\", \"14\", \"15\", \"16\", \"17\", \"18\", \"19\", \"20\", \"21\", \"22\", \"23\", \"24\", \"25\", \"26\", \"27\", \"28\", \"29\", \"30\", \"31\", \"32\", \"33\", \"34\", \"35\", \"38\", \"39\"], \"mode\": \"lines\", \"name\": \"f1_score_micro_max\", \"stepped\": true, \"type\": \"scatter\", \"data\": [0.8359770114942527, 0.8359770114942527, 0.8359770114942527, 0.8359770114942527, 0.8359770114942527, 0.8359770114942527, 0.8457471264367816, 0.8457471264367816, 0.8457471264367816, 0.8457471264367816, 0.8527586206896551, 0.8527586206896551, 0.8527586206896551, 0.8527586206896551, 0.8663218390804598, 0.8663218390804598, 0.8663218390804598, 0.8663218390804598, 0.8663218390804598, 0.8663218390804598, 0.8663218390804598, 0.8663218390804598, 0.8663218390804598, 0.8663218390804598, 0.8663218390804598, 0.8663218390804598, 0.8663218390804598, 0.8663218390804598, 0.8663218390804598, 0.8663218390804598, 0.8663218390804598, 0.8663218390804598, 0.8663218390804598, 0.8663218390804598, 0.8663218390804598, 0.8663218390804598, 0.8763218390804598, 0.8763218390804598]}], \"f1_score_weighted\": [{\"categories\": [\"0\", \"1\", \"2\", \"3\", \"4\", \"5\", \"6\", \"7\", \"8\", \"9\", \"10\", \"11\", \"12\", \"13\", \"14\", \"15\", \"16\", \"17\", \"18\", \"19\", \"20\", \"21\", \"22\", \"23\", \"24\", \"25\", \"26\", \"27\", \"28\", \"29\", \"30\", \"31\", \"32\", \"33\", \"34\", \"35\", \"38\", \"39\"], \"mode\": \"markers\", \"name\": \"f1_score_weighted\", \"stepped\": false, \"type\": \"scatter\", \"data\": [0.8333388901455894, 0.8342588560383983, 0.8219780829025864, 0.8262612991494377, 0.8243045433338416, 0.7966623210665318, 0.8450722262644451, 0.8048217845216165, 0.8268845927520065, 0.8182849428892383, 0.8491764601617229, 0.8080979228611413, 0.8430126114733476, 0.8396087541462058, 0.8631478717925927, 0.817806976960463, 0.8132634517824846, 0.7057466799580798, 0.8473051775442382, 0.8342261633979355, 0.8340640950438445, 0.7681953846521304, 0.7376265450314443, 0.8120495061205647, 0.8418407106243672, 0.5534120288954022, 0.8410184742117103, 0.8330919162782356, 0.8137156208625935, 0.8356033153085581, 0.5534120288954022, 0.6759887039074888, 0.8462649227273926, 0.8400660742843629, 0.7694082864625893, 0.8252686294615513, 0.8720932016548396, 0.8589717793706336]}, {\"categories\": [\"0\", \"1\", \"2\", \"3\", \"4\", \"5\", \"6\", \"7\", \"8\", \"9\", \"10\", \"11\", \"12\", \"13\", \"14\", \"15\", \"16\", \"17\", \"18\", \"19\", \"20\", \"21\", \"22\", \"23\", \"24\", \"25\", \"26\", \"27\", \"28\", \"29\", \"30\", \"31\", \"32\", \"33\", \"34\", \"35\", \"38\", \"39\"], \"mode\": \"lines\", \"name\": \"f1_score_weighted_max\", \"stepped\": true, \"type\": \"scatter\", \"data\": [0.8333388901455894, 0.8342588560383983, 0.8342588560383983, 0.8342588560383983, 0.8342588560383983, 0.8342588560383983, 0.8450722262644451, 0.8450722262644451, 0.8450722262644451, 0.8450722262644451, 0.8491764601617229, 0.8491764601617229, 0.8491764601617229, 0.8491764601617229, 0.8631478717925927, 0.8631478717925927, 0.8631478717925927, 0.8631478717925927, 0.8631478717925927, 0.8631478717925927, 0.8631478717925927, 0.8631478717925927, 0.8631478717925927, 0.8631478717925927, 0.8631478717925927, 0.8631478717925927, 0.8631478717925927, 0.8631478717925927, 0.8631478717925927, 0.8631478717925927, 0.8631478717925927, 0.8631478717925927, 0.8631478717925927, 0.8631478717925927, 0.8631478717925927, 0.8631478717925927, 0.8720932016548396, 0.8720932016548396]}], \"average_precision_score_weighted\": [{\"categories\": [\"0\", \"1\", \"2\", \"3\", \"4\", \"5\", \"6\", \"7\", \"8\", \"9\", \"10\", \"11\", \"12\", \"13\", \"14\", \"15\", \"16\", \"17\", \"18\", \"19\", \"20\", \"21\", \"22\", \"23\", \"24\", \"25\", \"26\", \"27\", \"28\", \"29\", \"30\", \"31\", \"32\", \"33\", \"34\", \"35\", \"38\", \"39\"], \"mode\": \"markers\", \"name\": \"average_precision_score_weighted\", \"stepped\": false, \"type\": \"scatter\", \"data\": [0.9061112830231934, 0.907154018724502, 0.9152360551966033, 0.9002855804502771, 0.9174361459000939, 0.8890932320358041, 0.9203458604908171, 0.8764764478120824, 0.9165549146745361, 0.9006152166437232, 0.9145352558828301, 0.9080352585855126, 0.9178293342938335, 0.917137322005224, 0.9111961916332909, 0.907888571623169, 0.9177586180946771, 0.8992124057005514, 0.9213765034554801, 0.9160419972151503, 0.9139149904029, 0.9077395435533042, 0.8968113838868744, 0.9070137255083891, 0.9206627380176673, 0.5827102655568768, 0.9187518474297148, 0.9051350361494794, 0.89295884102167, 0.9123519870082474, 0.5812917764752511, 0.8950799573747013, 0.9149415177430991, 0.9090993044958958, 0.9092204944743271, 0.9155810164103334, 0.9308416648773268, 0.932448995115456]}, {\"categories\": [\"0\", \"1\", \"2\", \"3\", \"4\", \"5\", \"6\", \"7\", \"8\", \"9\", \"10\", \"11\", \"12\", \"13\", \"14\", \"15\", \"16\", \"17\", \"18\", \"19\", \"20\", \"21\", \"22\", \"23\", \"24\", \"25\", \"26\", \"27\", \"28\", \"29\", \"30\", \"31\", \"32\", \"33\", \"34\", \"35\", \"38\", \"39\"], \"mode\": \"lines\", \"name\": \"average_precision_score_weighted_max\", \"stepped\": true, \"type\": \"scatter\", \"data\": [0.9061112830231934, 0.907154018724502, 0.9152360551966033, 0.9152360551966033, 0.9174361459000939, 0.9174361459000939, 0.9203458604908171, 0.9203458604908171, 0.9203458604908171, 0.9203458604908171, 0.9203458604908171, 0.9203458604908171, 0.9203458604908171, 0.9203458604908171, 0.9203458604908171, 0.9203458604908171, 0.9203458604908171, 0.9203458604908171, 0.9213765034554801, 0.9213765034554801, 0.9213765034554801, 0.9213765034554801, 0.9213765034554801, 0.9213765034554801, 0.9213765034554801, 0.9213765034554801, 0.9213765034554801, 0.9213765034554801, 0.9213765034554801, 0.9213765034554801, 0.9213765034554801, 0.9213765034554801, 0.9213765034554801, 0.9213765034554801, 0.9213765034554801, 0.9213765034554801, 0.9308416648773268, 0.932448995115456]}], \"precision_score_micro\": [{\"categories\": [\"0\", \"1\", \"2\", \"3\", \"4\", \"5\", \"6\", \"7\", \"8\", \"9\", \"10\", \"11\", \"12\", \"13\", \"14\", \"15\", \"16\", \"17\", \"18\", \"19\", \"20\", \"21\", \"22\", \"23\", \"24\", \"25\", \"26\", \"27\", \"28\", \"29\", \"30\", \"31\", \"32\", \"33\", \"34\", \"35\", \"38\", \"39\"], \"mode\": \"markers\", \"name\": \"precision_score_micro\", \"stepped\": false, \"type\": \"scatter\", \"data\": [0.8359770114942527, 0.8358620689655172, 0.8258620689655171, 0.8326436781609194, 0.8226436781609194, 0.792528735632184, 0.8457471264367816, 0.8093103448275862, 0.8327586206896551, 0.8228735632183908, 0.8527586206896551, 0.8195402298850574, 0.8494252873563217, 0.8426436781609195, 0.8663218390804598, 0.822528735632184, 0.8260919540229885, 0.7593103448275862, 0.8527586206896552, 0.8358620689655172, 0.8460919540229886, 0.7994252873563219, 0.7725287356321839, 0.8193103448275861, 0.8425287356321839, 0.6791954022988507, 0.8459770114942529, 0.8362068965517242, 0.8158620689655173, 0.8427586206896551, 0.6791954022988507, 0.7425287356321839, 0.8495402298850575, 0.8462068965517242, 0.7925287356321838, 0.8257471264367815, 0.8763218390804598, 0.8627586206896553]}, {\"categories\": [\"0\", \"1\", \"2\", \"3\", \"4\", \"5\", \"6\", \"7\", \"8\", \"9\", \"10\", \"11\", \"12\", \"13\", \"14\", \"15\", \"16\", \"17\", \"18\", \"19\", \"20\", \"21\", \"22\", \"23\", \"24\", \"25\", \"26\", \"27\", \"28\", \"29\", \"30\", \"31\", \"32\", \"33\", \"34\", \"35\", \"38\", \"39\"], \"mode\": \"lines\", \"name\": \"precision_score_micro_max\", \"stepped\": true, \"type\": \"scatter\", \"data\": [0.8359770114942527, 0.8359770114942527, 0.8359770114942527, 0.8359770114942527, 0.8359770114942527, 0.8359770114942527, 0.8457471264367816, 0.8457471264367816, 0.8457471264367816, 0.8457471264367816, 0.8527586206896551, 0.8527586206896551, 0.8527586206896551, 0.8527586206896551, 0.8663218390804598, 0.8663218390804598, 0.8663218390804598, 0.8663218390804598, 0.8663218390804598, 0.8663218390804598, 0.8663218390804598, 0.8663218390804598, 0.8663218390804598, 0.8663218390804598, 0.8663218390804598, 0.8663218390804598, 0.8663218390804598, 0.8663218390804598, 0.8663218390804598, 0.8663218390804598, 0.8663218390804598, 0.8663218390804598, 0.8663218390804598, 0.8663218390804598, 0.8663218390804598, 0.8663218390804598, 0.8763218390804598, 0.8763218390804598]}], \"matthews_correlation\": [{\"categories\": [\"0\", \"1\", \"2\", \"3\", \"4\", \"5\", \"6\", \"7\", \"8\", \"9\", \"10\", \"11\", \"12\", \"13\", \"14\", \"15\", \"16\", \"17\", \"18\", \"19\", \"20\", \"21\", \"22\", \"23\", \"24\", \"25\", \"26\", \"27\", \"28\", \"29\", \"30\", \"31\", \"32\", \"33\", \"34\", \"35\", \"38\", \"39\"], \"mode\": \"markers\", \"name\": \"matthews_correlation\", \"stepped\": false, \"type\": \"scatter\", \"data\": [0.6231314496952846, 0.6345538749068885, 0.5999466874056438, 0.6076638610601824, 0.6042298422531693, 0.5585540540065608, 0.6486110100679002, 0.5420631828594559, 0.6181804708226917, 0.5926056841761447, 0.6652815612036447, 0.5859889020033766, 0.6441659826998258, 0.642033472368239, 0.7041588796119338, 0.5984072780585774, 0.5985307000342799, 0.41993956162728124, 0.6714956093600895, 0.6288391971759815, 0.645278616834968, 0.5209801376438984, 0.4305243882919417, 0.5783545131178667, 0.6397730947209479, 0.0, 0.6594703084407327, 0.6291702367253744, 0.5788840903047142, 0.6435461103458608, 0.0, 0.31708143065059813, 0.6644461532049143, 0.6624355253362542, 0.5232946277524999, 0.61111470608738, 0.7275926385633272, 0.6973361667542586]}, {\"categories\": [\"0\", \"1\", \"2\", \"3\", \"4\", \"5\", \"6\", \"7\", \"8\", \"9\", \"10\", \"11\", \"12\", \"13\", \"14\", \"15\", \"16\", \"17\", \"18\", \"19\", \"20\", \"21\", \"22\", \"23\", \"24\", \"25\", \"26\", \"27\", \"28\", \"29\", \"30\", \"31\", \"32\", \"33\", \"34\", \"35\", \"38\", \"39\"], \"mode\": \"lines\", \"name\": \"matthews_correlation_max\", \"stepped\": true, \"type\": \"scatter\", \"data\": [0.6231314496952846, 0.6345538749068885, 0.6345538749068885, 0.6345538749068885, 0.6345538749068885, 0.6345538749068885, 0.6486110100679002, 0.6486110100679002, 0.6486110100679002, 0.6486110100679002, 0.6652815612036447, 0.6652815612036447, 0.6652815612036447, 0.6652815612036447, 0.7041588796119338, 0.7041588796119338, 0.7041588796119338, 0.7041588796119338, 0.7041588796119338, 0.7041588796119338, 0.7041588796119338, 0.7041588796119338, 0.7041588796119338, 0.7041588796119338, 0.7041588796119338, 0.7041588796119338, 0.7041588796119338, 0.7041588796119338, 0.7041588796119338, 0.7041588796119338, 0.7041588796119338, 0.7041588796119338, 0.7041588796119338, 0.7041588796119338, 0.7041588796119338, 0.7041588796119338, 0.7275926385633272, 0.7275926385633272]}], \"recall_score_weighted\": [{\"categories\": [\"0\", \"1\", \"2\", \"3\", \"4\", \"5\", \"6\", \"7\", \"8\", \"9\", \"10\", \"11\", \"12\", \"13\", \"14\", \"15\", \"16\", \"17\", \"18\", \"19\", \"20\", \"21\", \"22\", \"23\", \"24\", \"25\", \"26\", \"27\", \"28\", \"29\", \"30\", \"31\", \"32\", \"33\", \"34\", \"35\", \"38\", \"39\"], \"mode\": \"markers\", \"name\": \"recall_score_weighted\", \"stepped\": false, \"type\": \"scatter\", \"data\": [0.8359770114942527, 0.8358620689655172, 0.8258620689655171, 0.8326436781609194, 0.8226436781609194, 0.792528735632184, 0.8457471264367816, 0.8093103448275862, 0.8327586206896551, 0.8228735632183908, 0.8527586206896551, 0.8195402298850574, 0.8494252873563217, 0.8426436781609195, 0.8663218390804598, 0.822528735632184, 0.8260919540229885, 0.7593103448275862, 0.8527586206896552, 0.8358620689655172, 0.8460919540229886, 0.7994252873563219, 0.7725287356321839, 0.8193103448275861, 0.8425287356321839, 0.6791954022988507, 0.8459770114942529, 0.8362068965517242, 0.8158620689655173, 0.8427586206896551, 0.6791954022988507, 0.7425287356321839, 0.8495402298850575, 0.8462068965517242, 0.7925287356321838, 0.8257471264367815, 0.8763218390804598, 0.8627586206896553]}, {\"categories\": [\"0\", \"1\", \"2\", \"3\", \"4\", \"5\", \"6\", \"7\", \"8\", \"9\", \"10\", \"11\", \"12\", \"13\", \"14\", \"15\", \"16\", \"17\", \"18\", \"19\", \"20\", \"21\", \"22\", \"23\", \"24\", \"25\", \"26\", \"27\", \"28\", \"29\", \"30\", \"31\", \"32\", \"33\", \"34\", \"35\", \"38\", \"39\"], \"mode\": \"lines\", \"name\": \"recall_score_weighted_max\", \"stepped\": true, \"type\": \"scatter\", \"data\": [0.8359770114942527, 0.8359770114942527, 0.8359770114942527, 0.8359770114942527, 0.8359770114942527, 0.8359770114942527, 0.8457471264367816, 0.8457471264367816, 0.8457471264367816, 0.8457471264367816, 0.8527586206896551, 0.8527586206896551, 0.8527586206896551, 0.8527586206896551, 0.8663218390804598, 0.8663218390804598, 0.8663218390804598, 0.8663218390804598, 0.8663218390804598, 0.8663218390804598, 0.8663218390804598, 0.8663218390804598, 0.8663218390804598, 0.8663218390804598, 0.8663218390804598, 0.8663218390804598, 0.8663218390804598, 0.8663218390804598, 0.8663218390804598, 0.8663218390804598, 0.8663218390804598, 0.8663218390804598, 0.8663218390804598, 0.8663218390804598, 0.8663218390804598, 0.8663218390804598, 0.8763218390804598, 0.8763218390804598]}], \"precision_score_macro\": [{\"categories\": [\"0\", \"1\", \"2\", \"3\", \"4\", \"5\", \"6\", \"7\", \"8\", \"9\", \"10\", \"11\", \"12\", \"13\", \"14\", \"15\", \"16\", \"17\", \"18\", \"19\", \"20\", \"21\", \"22\", \"23\", \"24\", \"25\", \"26\", \"27\", \"28\", \"29\", \"30\", \"31\", \"32\", \"33\", \"34\", \"35\", \"38\", \"39\"], \"mode\": \"markers\", \"name\": \"precision_score_macro\", \"stepped\": false, \"type\": \"scatter\", \"data\": [0.8167365852764965, 0.8232986049897815, 0.8082986493472427, 0.8225350917198743, 0.7952056277056277, 0.7717295219830049, 0.8283948420860184, 0.7853385886633968, 0.8294928031541303, 0.8098152219970096, 0.8418565823319828, 0.8349356593487027, 0.8385631718381079, 0.8275588609951244, 0.8637153522282744, 0.810005821536714, 0.8466691396365309, 0.8598423504975228, 0.8563896020074511, 0.8153809942189099, 0.8732109545467669, 0.8457649757649758, 0.7960542012266151, 0.8149923985879364, 0.820811314502491, 0.33959770114942534, 0.8514734661473792, 0.8208112856094415, 0.7916188486697638, 0.8423092536118851, 0.33959770114942534, 0.7529656225001052, 0.844335962623249, 0.8543859474494486, 0.8194980040088735, 0.8023186014042792, 0.8814139299551199, 0.8640125543157579]}, {\"categories\": [\"0\", \"1\", \"2\", \"3\", \"4\", \"5\", \"6\", \"7\", \"8\", \"9\", \"10\", \"11\", \"12\", \"13\", \"14\", \"15\", \"16\", \"17\", \"18\", \"19\", \"20\", \"21\", \"22\", \"23\", \"24\", \"25\", \"26\", \"27\", \"28\", \"29\", \"30\", \"31\", \"32\", \"33\", \"34\", \"35\", \"38\", \"39\"], \"mode\": \"lines\", \"name\": \"precision_score_macro_max\", \"stepped\": true, \"type\": \"scatter\", \"data\": [0.8167365852764965, 0.8232986049897815, 0.8232986049897815, 0.8232986049897815, 0.8232986049897815, 0.8232986049897815, 0.8283948420860184, 0.8283948420860184, 0.8294928031541303, 0.8294928031541303, 0.8418565823319828, 0.8418565823319828, 0.8418565823319828, 0.8418565823319828, 0.8637153522282744, 0.8637153522282744, 0.8637153522282744, 0.8637153522282744, 0.8637153522282744, 0.8637153522282744, 0.8732109545467669, 0.8732109545467669, 0.8732109545467669, 0.8732109545467669, 0.8732109545467669, 0.8732109545467669, 0.8732109545467669, 0.8732109545467669, 0.8732109545467669, 0.8732109545467669, 0.8732109545467669, 0.8732109545467669, 0.8732109545467669, 0.8732109545467669, 0.8732109545467669, 0.8732109545467669, 0.8814139299551199, 0.8814139299551199]}], \"norm_macro_recall\": [{\"categories\": [\"0\", \"1\", \"2\", \"3\", \"4\", \"5\", \"6\", \"7\", \"8\", \"9\", \"10\", \"11\", \"12\", \"13\", \"14\", \"15\", \"16\", \"17\", \"18\", \"19\", \"20\", \"21\", \"22\", \"23\", \"24\", \"25\", \"26\", \"27\", \"28\", \"29\", \"30\", \"31\", \"32\", \"33\", \"34\", \"35\", \"38\", \"39\"], \"mode\": \"markers\", \"name\": \"norm_macro_recall\", \"stepped\": false, \"type\": \"scatter\", \"data\": [0.6154165791620023, 0.626049804187676, 0.5878316319454763, 0.575061538067831, 0.6200002294933645, 0.5780579701889771, 0.6430131975194906, 0.5173603664959501, 0.5836336881399811, 0.5700270959018099, 0.6498778971473479, 0.5207736402930911, 0.6179604008374031, 0.6319884766263485, 0.6846138278832787, 0.5817607993963829, 0.5201972239558051, 0.26143217893217885, 0.6361560356754865, 0.6302469637532567, 0.5680607521768849, 0.402106971975393, 0.3263522194815101, 0.5361084356147285, 0.6396041066103995, 0.0, 0.6230683923246852, 0.6190142797705727, 0.5784828317499943, 0.6140357349236067, 0.0, 0.1946067821067821, 0.6433515813578743, 0.6241468460347178, 0.44229299368315383, 0.6217015092078022, 0.6975106532801041, 0.6720454751833469]}, {\"categories\": [\"0\", \"1\", \"2\", \"3\", \"4\", \"5\", \"6\", \"7\", \"8\", \"9\", \"10\", \"11\", \"12\", \"13\", \"14\", \"15\", \"16\", \"17\", \"18\", \"19\", \"20\", \"21\", \"22\", \"23\", \"24\", \"25\", \"26\", \"27\", \"28\", \"29\", \"30\", \"31\", \"32\", \"33\", \"34\", \"35\", \"38\", \"39\"], \"mode\": \"lines\", \"name\": \"norm_macro_recall_max\", \"stepped\": true, \"type\": \"scatter\", \"data\": [0.6154165791620023, 0.626049804187676, 0.626049804187676, 0.626049804187676, 0.626049804187676, 0.626049804187676, 0.6430131975194906, 0.6430131975194906, 0.6430131975194906, 0.6430131975194906, 0.6498778971473479, 0.6498778971473479, 0.6498778971473479, 0.6498778971473479, 0.6846138278832787, 0.6846138278832787, 0.6846138278832787, 0.6846138278832787, 0.6846138278832787, 0.6846138278832787, 0.6846138278832787, 0.6846138278832787, 0.6846138278832787, 0.6846138278832787, 0.6846138278832787, 0.6846138278832787, 0.6846138278832787, 0.6846138278832787, 0.6846138278832787, 0.6846138278832787, 0.6846138278832787, 0.6846138278832787, 0.6846138278832787, 0.6846138278832787, 0.6846138278832787, 0.6846138278832787, 0.6975106532801041, 0.6975106532801041]}], \"weighted_accuracy\": [{\"categories\": [\"0\", \"1\", \"2\", \"3\", \"4\", \"5\", \"6\", \"7\", \"8\", \"9\", \"10\", \"11\", \"12\", \"13\", \"14\", \"15\", \"16\", \"17\", \"18\", \"19\", \"20\", \"21\", \"22\", \"23\", \"24\", \"25\", \"26\", \"27\", \"28\", \"29\", \"30\", \"31\", \"32\", \"33\", \"34\", \"35\", \"38\", \"39\"], \"mode\": \"markers\", \"name\": \"weighted_accuracy\", \"stepped\": false, \"type\": \"scatter\", \"data\": [0.8541321922200625, 0.8502962163535492, 0.8468961397213468, 0.8620978267472766, 0.8295488357810645, 0.794035685460014, 0.8614585132694383, 0.8385082313085942, 0.8595287859119706, 0.8459653173983817, 0.8708653316779815, 0.8569762141082642, 0.8754870377432734, 0.8599031542076286, 0.8812576027094451, 0.8430822351905144, 0.8683139582924287, 0.8409032945905187, 0.8754349402150415, 0.8492565769569482, 0.8858709390981296, 0.8615882766304159, 0.8399763781018773, 0.8514656444310891, 0.8568207677613288, 0.7931711479234276, 0.8682864961891351, 0.8535480316158818, 0.8339219048503944, 0.8643289520936641, 0.7931711479234276, 0.8327881872676344, 0.8669299162579055, 0.8688248338961548, 0.8384807068095548, 0.8357098130064093, 0.894344335592302, 0.8804231294729027]}, {\"categories\": [\"0\", \"1\", \"2\", \"3\", \"4\", \"5\", \"6\", \"7\", \"8\", \"9\", \"10\", \"11\", \"12\", \"13\", \"14\", \"15\", \"16\", \"17\", \"18\", \"19\", \"20\", \"21\", \"22\", \"23\", \"24\", \"25\", \"26\", \"27\", \"28\", \"29\", \"30\", \"31\", \"32\", \"33\", \"34\", \"35\", \"38\", \"39\"], \"mode\": \"lines\", \"name\": \"weighted_accuracy_max\", \"stepped\": true, \"type\": \"scatter\", \"data\": [0.8541321922200625, 0.8541321922200625, 0.8541321922200625, 0.8620978267472766, 0.8620978267472766, 0.8620978267472766, 0.8620978267472766, 0.8620978267472766, 0.8620978267472766, 0.8620978267472766, 0.8708653316779815, 0.8708653316779815, 0.8754870377432734, 0.8754870377432734, 0.8812576027094451, 0.8812576027094451, 0.8812576027094451, 0.8812576027094451, 0.8812576027094451, 0.8812576027094451, 0.8858709390981296, 0.8858709390981296, 0.8858709390981296, 0.8858709390981296, 0.8858709390981296, 0.8858709390981296, 0.8858709390981296, 0.8858709390981296, 0.8858709390981296, 0.8858709390981296, 0.8858709390981296, 0.8858709390981296, 0.8858709390981296, 0.8858709390981296, 0.8858709390981296, 0.8858709390981296, 0.894344335592302, 0.894344335592302]}], \"AUC_macro\": [{\"categories\": [\"0\", \"1\", \"2\", \"3\", \"4\", \"5\", \"6\", \"7\", \"8\", \"9\", \"10\", \"11\", \"12\", \"13\", \"14\", \"15\", \"16\", \"17\", \"18\", \"19\", \"20\", \"21\", \"22\", \"23\", \"24\", \"25\", \"26\", \"27\", \"28\", \"29\", \"30\", \"31\", \"32\", \"33\", \"34\", \"35\", \"38\", \"39\"], \"mode\": \"markers\", \"name\": \"AUC_macro\", \"stepped\": false, \"type\": \"scatter\", \"data\": [0.8840955354735103, 0.8847369443591411, 0.8960915852433013, 0.8866161375386203, 0.9029684910288458, 0.8680437667786066, 0.9040384472930239, 0.8608370342027666, 0.900381358452125, 0.879342659940915, 0.8980293919911769, 0.8956902993787719, 0.8992607514889551, 0.9001504231318306, 0.9010714414219564, 0.8908448428933555, 0.8947674802399058, 0.8677734895264072, 0.9080010541009969, 0.9036144070100592, 0.8947260855806622, 0.8853848877793957, 0.8677668036197212, 0.8887387635205712, 0.9020244240376962, 0.5, 0.9021842606626359, 0.8879981568848561, 0.8785307063910324, 0.8891993520252102, 0.47602303580922, 0.8742610778703458, 0.9012188957241587, 0.8910240493361202, 0.885225867864655, 0.8997508568990549, 0.9189431343785464, 0.9205483156452836]}, {\"categories\": [\"0\", \"1\", \"2\", \"3\", \"4\", \"5\", \"6\", \"7\", \"8\", \"9\", \"10\", \"11\", \"12\", \"13\", \"14\", \"15\", \"16\", \"17\", \"18\", \"19\", \"20\", \"21\", \"22\", \"23\", \"24\", \"25\", \"26\", \"27\", \"28\", \"29\", \"30\", \"31\", \"32\", \"33\", \"34\", \"35\", \"38\", \"39\"], \"mode\": \"lines\", \"name\": \"AUC_macro_max\", \"stepped\": true, \"type\": \"scatter\", \"data\": [0.8840955354735103, 0.8847369443591411, 0.8960915852433013, 0.8960915852433013, 0.9029684910288458, 0.9029684910288458, 0.9040384472930239, 0.9040384472930239, 0.9040384472930239, 0.9040384472930239, 0.9040384472930239, 0.9040384472930239, 0.9040384472930239, 0.9040384472930239, 0.9040384472930239, 0.9040384472930239, 0.9040384472930239, 0.9040384472930239, 0.9080010541009969, 0.9080010541009969, 0.9080010541009969, 0.9080010541009969, 0.9080010541009969, 0.9080010541009969, 0.9080010541009969, 0.9080010541009969, 0.9080010541009969, 0.9080010541009969, 0.9080010541009969, 0.9080010541009969, 0.9080010541009969, 0.9080010541009969, 0.9080010541009969, 0.9080010541009969, 0.9080010541009969, 0.9080010541009969, 0.9189431343785464, 0.9205483156452836]}], \"average_precision_score_macro\": [{\"categories\": [\"0\", \"1\", \"2\", \"3\", \"4\", \"5\", \"6\", \"7\", \"8\", \"9\", \"10\", \"11\", \"12\", \"13\", \"14\", \"15\", \"16\", \"17\", \"18\", \"19\", \"20\", \"21\", \"22\", \"23\", \"24\", \"25\", \"26\", \"27\", \"28\", \"29\", \"30\", \"31\", \"32\", \"33\", \"34\", \"35\", \"38\", \"39\"], \"mode\": \"markers\", \"name\": \"average_precision_score_macro\", \"stepped\": false, \"type\": \"scatter\", \"data\": [0.8807888197525153, 0.8807340475847678, 0.8897241314909031, 0.872391520303832, 0.8919166449077958, 0.8530575948984758, 0.8952714990935821, 0.8401142754782065, 0.8918330319186867, 0.8749745008185043, 0.897480725029952, 0.8846017871895763, 0.8948202084293438, 0.8911378257362903, 0.8886554366402585, 0.8773529653555263, 0.8914413855454489, 0.8661390074776559, 0.9005346314274421, 0.8869287413361138, 0.8920509444707341, 0.8826263312927226, 0.863623660027798, 0.8827807513103156, 0.8964139455857676, 0.5, 0.897008250852112, 0.8819949781809319, 0.8590863749247781, 0.8838693954561496, 0.4985437745865915, 0.8602587851182809, 0.8956742114140674, 0.885910482887633, 0.878653877680945, 0.8882867227226727, 0.909851704919947, 0.9122349846293467]}, {\"categories\": [\"0\", \"1\", \"2\", \"3\", \"4\", \"5\", \"6\", \"7\", \"8\", \"9\", \"10\", \"11\", \"12\", \"13\", \"14\", \"15\", \"16\", \"17\", \"18\", \"19\", \"20\", \"21\", \"22\", \"23\", \"24\", \"25\", \"26\", \"27\", \"28\", \"29\", \"30\", \"31\", \"32\", \"33\", \"34\", \"35\", \"38\", \"39\"], \"mode\": \"lines\", \"name\": \"average_precision_score_macro_max\", \"stepped\": true, \"type\": \"scatter\", \"data\": [0.8807888197525153, 0.8807888197525153, 0.8897241314909031, 0.8897241314909031, 0.8919166449077958, 0.8919166449077958, 0.8952714990935821, 0.8952714990935821, 0.8952714990935821, 0.8952714990935821, 0.897480725029952, 0.897480725029952, 0.897480725029952, 0.897480725029952, 0.897480725029952, 0.897480725029952, 0.897480725029952, 0.897480725029952, 0.9005346314274421, 0.9005346314274421, 0.9005346314274421, 0.9005346314274421, 0.9005346314274421, 0.9005346314274421, 0.9005346314274421, 0.9005346314274421, 0.9005346314274421, 0.9005346314274421, 0.9005346314274421, 0.9005346314274421, 0.9005346314274421, 0.9005346314274421, 0.9005346314274421, 0.9005346314274421, 0.9005346314274421, 0.9005346314274421, 0.909851704919947, 0.9122349846293467]}], \"AUC_micro\": [{\"categories\": [\"0\", \"1\", \"2\", \"3\", \"4\", \"5\", \"6\", \"7\", \"8\", \"9\", \"10\", \"11\", \"12\", \"13\", \"14\", \"15\", \"16\", \"17\", \"18\", \"19\", \"20\", \"21\", \"22\", \"23\", \"24\", \"25\", \"26\", \"27\", \"28\", \"29\", \"30\", \"31\", \"32\", \"33\", \"34\", \"35\", \"38\", \"39\"], \"mode\": \"markers\", \"name\": \"AUC_micro\", \"stepped\": false, \"type\": \"scatter\", \"data\": [0.9035422116527941, 0.9042166732725592, 0.9035675782798256, 0.8968131853613424, 0.908891134892324, 0.8643045316422249, 0.9128112035936056, 0.8808599550799313, 0.903497291584093, 0.8925694279297133, 0.9047370854802483, 0.9036357510899722, 0.9146922975293963, 0.9126845025762981, 0.9049241643546043, 0.9033433742898666, 0.8975012551195668, 0.8558131853613423, 0.9091307966706301, 0.9097370854802485, 0.9030100409565331, 0.8729632712379443, 0.8668345884529, 0.895871581450654, 0.9124388954947815, 0.6791954022988507, 0.9046785572730875, 0.8939495309816357, 0.892396089311666, 0.909674725855463, 0.6669731800766283, 0.8514564671687145, 0.9089651208878321, 0.9001717532038578, 0.8826786893909369, 0.9066261064869863, 0.922750693618708, 0.9169573259347338]}, {\"categories\": [\"0\", \"1\", \"2\", \"3\", \"4\", \"5\", \"6\", \"7\", \"8\", \"9\", \"10\", \"11\", \"12\", \"13\", \"14\", \"15\", \"16\", \"17\", \"18\", \"19\", \"20\", \"21\", \"22\", \"23\", \"24\", \"25\", \"26\", \"27\", \"28\", \"29\", \"30\", \"31\", \"32\", \"33\", \"34\", \"35\", \"38\", \"39\"], \"mode\": \"lines\", \"name\": \"AUC_micro_max\", \"stepped\": true, \"type\": \"scatter\", \"data\": [0.9035422116527941, 0.9042166732725592, 0.9042166732725592, 0.9042166732725592, 0.908891134892324, 0.908891134892324, 0.9128112035936056, 0.9128112035936056, 0.9128112035936056, 0.9128112035936056, 0.9128112035936056, 0.9128112035936056, 0.9146922975293963, 0.9146922975293963, 0.9146922975293963, 0.9146922975293963, 0.9146922975293963, 0.9146922975293963, 0.9146922975293963, 0.9146922975293963, 0.9146922975293963, 0.9146922975293963, 0.9146922975293963, 0.9146922975293963, 0.9146922975293963, 0.9146922975293963, 0.9146922975293963, 0.9146922975293963, 0.9146922975293963, 0.9146922975293963, 0.9146922975293963, 0.9146922975293963, 0.9146922975293963, 0.9146922975293963, 0.9146922975293963, 0.9146922975293963, 0.922750693618708, 0.922750693618708]}], \"AUC_weighted\": [{\"categories\": [\"0\", \"1\", \"2\", \"3\", \"4\", \"5\", \"6\", \"7\", \"8\", \"9\", \"10\", \"11\", \"12\", \"13\", \"14\", \"15\", \"16\", \"17\", \"18\", \"19\", \"20\", \"21\", \"22\", \"23\", \"24\", \"25\", \"26\", \"27\", \"28\", \"29\", \"30\", \"31\", \"32\", \"33\", \"34\", \"35\", \"38\", \"39\"], \"mode\": \"markers\", \"name\": \"AUC_weighted\", \"stepped\": false, \"type\": \"scatter\", \"data\": [0.8840955354735103, 0.8847369443591411, 0.8960915852433015, 0.8866161375386203, 0.9029684910288459, 0.8680437667786066, 0.9040384472930241, 0.8608370342027666, 0.900381358452125, 0.879342659940915, 0.8980293919911768, 0.8956902993787719, 0.8992607514889551, 0.9001504231318306, 0.9010714414219564, 0.8908448428933555, 0.8947674802399058, 0.8677734895264072, 0.9080010541009969, 0.9036144070100592, 0.8947260855806622, 0.8853848877793957, 0.8677668036197212, 0.8887387635205715, 0.9020244240376962, 0.5, 0.9021842606626359, 0.8879981568848561, 0.8785307063910324, 0.8891993520252102, 0.47602303580922, 0.8742610778703458, 0.9012188957241587, 0.8910240493361202, 0.885225867864655, 0.8997508568990549, 0.9189431343785464, 0.9205483156452836]}, {\"categories\": [\"0\", \"1\", \"2\", \"3\", \"4\", \"5\", \"6\", \"7\", \"8\", \"9\", \"10\", \"11\", \"12\", \"13\", \"14\", \"15\", \"16\", \"17\", \"18\", \"19\", \"20\", \"21\", \"22\", \"23\", \"24\", \"25\", \"26\", \"27\", \"28\", \"29\", \"30\", \"31\", \"32\", \"33\", \"34\", \"35\", \"38\", \"39\"], \"mode\": \"lines\", \"name\": \"AUC_weighted_max\", \"stepped\": true, \"type\": \"scatter\", \"data\": [0.8840955354735103, 0.8847369443591411, 0.8960915852433015, 0.8960915852433015, 0.9029684910288459, 0.9029684910288459, 0.9040384472930241, 0.9040384472930241, 0.9040384472930241, 0.9040384472930241, 0.9040384472930241, 0.9040384472930241, 0.9040384472930241, 0.9040384472930241, 0.9040384472930241, 0.9040384472930241, 0.9040384472930241, 0.9040384472930241, 0.9080010541009969, 0.9080010541009969, 0.9080010541009969, 0.9080010541009969, 0.9080010541009969, 0.9080010541009969, 0.9080010541009969, 0.9080010541009969, 0.9080010541009969, 0.9080010541009969, 0.9080010541009969, 0.9080010541009969, 0.9080010541009969, 0.9080010541009969, 0.9080010541009969, 0.9080010541009969, 0.9080010541009969, 0.9080010541009969, 0.9189431343785464, 0.9205483156452836]}], \"log_loss\": [{\"categories\": [\"0\", \"1\", \"2\", \"3\", \"4\", \"5\", \"6\", \"7\", \"8\", \"9\", \"10\", \"11\", \"12\", \"13\", \"14\", \"15\", \"16\", \"17\", \"18\", \"19\", \"20\", \"21\", \"22\", \"23\", \"24\", \"25\", \"26\", \"27\", \"28\", \"29\", \"30\", \"31\", \"32\", \"33\", \"34\", \"35\", \"38\", \"39\"], \"mode\": \"markers\", \"name\": \"log_loss\", \"stepped\": false, \"type\": \"scatter\", \"data\": [0.4772179826627182, 0.41764279466886123, 0.38541932984663235, 0.40514842618266045, 0.3848537963964299, 0.4626533958056416, 0.36799028455777033, 0.488972342400222, 0.394405483274961, 0.4113226523427646, 0.38850921919299436, 0.4937811237209755, 0.3999066701752242, 0.38441193881608454, 0.39497371411315535, 0.3860945099994229, 0.4227894568759668, 0.5016580412766779, 0.38639193828673324, 0.3696132647988505, 0.4264504877315775, 0.4736909179352205, 0.4775153654860594, 0.3926074658506262, 0.370120467812017, 0.6327080979092066, 0.39611253366737986, 0.4182362547689416, 0.6229246662339782, 0.37293013799617375, 0.63524977972846, 0.5112080509405816, 0.38023254867436423, 0.3948022199384554, 0.4510537166882105, 0.392071643547845, 0.35678780556620343, 0.3762798237334094]}, {\"categories\": [\"0\", \"1\", \"2\", \"3\", \"4\", \"5\", \"6\", \"7\", \"8\", \"9\", \"10\", \"11\", \"12\", \"13\", \"14\", \"15\", \"16\", \"17\", \"18\", \"19\", \"20\", \"21\", \"22\", \"23\", \"24\", \"25\", \"26\", \"27\", \"28\", \"29\", \"30\", \"31\", \"32\", \"33\", \"34\", \"35\", \"38\", \"39\"], \"mode\": \"lines\", \"name\": \"log_loss_min\", \"stepped\": true, \"type\": \"scatter\", \"data\": [0.4772179826627182, 0.41764279466886123, 0.38541932984663235, 0.38541932984663235, 0.3848537963964299, 0.3848537963964299, 0.36799028455777033, 0.36799028455777033, 0.36799028455777033, 0.36799028455777033, 0.36799028455777033, 0.36799028455777033, 0.36799028455777033, 0.36799028455777033, 0.36799028455777033, 0.36799028455777033, 0.36799028455777033, 0.36799028455777033, 0.36799028455777033, 0.36799028455777033, 0.36799028455777033, 0.36799028455777033, 0.36799028455777033, 0.36799028455777033, 0.36799028455777033, 0.36799028455777033, 0.36799028455777033, 0.36799028455777033, 0.36799028455777033, 0.36799028455777033, 0.36799028455777033, 0.36799028455777033, 0.36799028455777033, 0.36799028455777033, 0.36799028455777033, 0.36799028455777033, 0.35678780556620343, 0.35678780556620343]}], \"precision_score_weighted\": [{\"categories\": [\"0\", \"1\", \"2\", \"3\", \"4\", \"5\", \"6\", \"7\", \"8\", \"9\", \"10\", \"11\", \"12\", \"13\", \"14\", \"15\", \"16\", \"17\", \"18\", \"19\", \"20\", \"21\", \"22\", \"23\", \"24\", \"25\", \"26\", \"27\", \"28\", \"29\", \"30\", \"31\", \"32\", \"33\", \"34\", \"35\", \"38\", \"39\"], \"mode\": \"markers\", \"name\": \"precision_score_weighted\", \"stepped\": false, \"type\": \"scatter\", \"data\": [0.8443308716969533, 0.8506678986628277, 0.8398749608198193, 0.840128876689971, 0.838875159642401, 0.8303048768950072, 0.8572149062529386, 0.8214794960088856, 0.8471991704876658, 0.837153057106774, 0.86473543687828, 0.840623900302411, 0.8593788892185577, 0.8559198541257143, 0.8793617712651578, 0.8394984137953048, 0.8458189288953408, 0.8241893216192067, 0.8694222560977078, 0.852041990446766, 0.8642408614937613, 0.8310542924295798, 0.7965013089507342, 0.8345004264850591, 0.8536655186898594, 0.47055053507728895, 0.8655059004796637, 0.8464264202888815, 0.8319232533425701, 0.8635570123363226, 0.47055053507728895, 0.7733496485649082, 0.8619261460059986, 0.8667025180799544, 0.8257925634899648, 0.8461703088828937, 0.889871678591595, 0.8780418025844327]}, {\"categories\": [\"0\", \"1\", \"2\", \"3\", \"4\", \"5\", \"6\", \"7\", \"8\", \"9\", \"10\", \"11\", \"12\", \"13\", \"14\", \"15\", \"16\", \"17\", \"18\", \"19\", \"20\", \"21\", \"22\", \"23\", \"24\", \"25\", \"26\", \"27\", \"28\", \"29\", \"30\", \"31\", \"32\", \"33\", \"34\", \"35\", \"38\", \"39\"], \"mode\": \"lines\", \"name\": \"precision_score_weighted_max\", \"stepped\": true, \"type\": \"scatter\", \"data\": [0.8443308716969533, 0.8506678986628277, 0.8506678986628277, 0.8506678986628277, 0.8506678986628277, 0.8506678986628277, 0.8572149062529386, 0.8572149062529386, 0.8572149062529386, 0.8572149062529386, 0.86473543687828, 0.86473543687828, 0.86473543687828, 0.86473543687828, 0.8793617712651578, 0.8793617712651578, 0.8793617712651578, 0.8793617712651578, 0.8793617712651578, 0.8793617712651578, 0.8793617712651578, 0.8793617712651578, 0.8793617712651578, 0.8793617712651578, 0.8793617712651578, 0.8793617712651578, 0.8793617712651578, 0.8793617712651578, 0.8793617712651578, 0.8793617712651578, 0.8793617712651578, 0.8793617712651578, 0.8793617712651578, 0.8793617712651578, 0.8793617712651578, 0.8793617712651578, 0.889871678591595, 0.889871678591595]}], \"recall_score_macro\": [{\"categories\": [\"0\", \"1\", \"2\", \"3\", \"4\", \"5\", \"6\", \"7\", \"8\", \"9\", \"10\", \"11\", \"12\", \"13\", \"14\", \"15\", \"16\", \"17\", \"18\", \"19\", \"20\", \"21\", \"22\", \"23\", \"24\", \"25\", \"26\", \"27\", \"28\", \"29\", \"30\", \"31\", \"32\", \"33\", \"34\", \"35\", \"38\", \"39\"], \"mode\": \"markers\", \"name\": \"recall_score_macro\", \"stepped\": false, \"type\": \"scatter\", \"data\": [0.8077082895810014, 0.8130249020938379, 0.7939158159727382, 0.7875307690339154, 0.8100001147466823, 0.7890289850944885, 0.8215065987597452, 0.758680183247975, 0.7918168440699906, 0.785013547950905, 0.8249389485736739, 0.7603868201465456, 0.8089802004187016, 0.8159942383131742, 0.8423069139416393, 0.7908803996981915, 0.7600986119779026, 0.6307160894660895, 0.8180780178377433, 0.8151234818766284, 0.7840303760884424, 0.7010534859876965, 0.663176109740755, 0.7680542178073643, 0.8198020533051998, 0.5, 0.8115341961623426, 0.8095071398852862, 0.7892414158749972, 0.8070178674618033, 0.5, 0.597303391053391, 0.821675790678937, 0.812073423017359, 0.721146496841577, 0.8108507546039011, 0.8487553266400519, 0.8360227375916734]}, {\"categories\": [\"0\", \"1\", \"2\", \"3\", \"4\", \"5\", \"6\", \"7\", \"8\", \"9\", \"10\", \"11\", \"12\", \"13\", \"14\", \"15\", \"16\", \"17\", \"18\", \"19\", \"20\", \"21\", \"22\", \"23\", \"24\", \"25\", \"26\", \"27\", \"28\", \"29\", \"30\", \"31\", \"32\", \"33\", \"34\", \"35\", \"38\", \"39\"], \"mode\": \"lines\", \"name\": \"recall_score_macro_max\", \"stepped\": true, \"type\": \"scatter\", \"data\": [0.8077082895810014, 0.8130249020938379, 0.8130249020938379, 0.8130249020938379, 0.8130249020938379, 0.8130249020938379, 0.8215065987597452, 0.8215065987597452, 0.8215065987597452, 0.8215065987597452, 0.8249389485736739, 0.8249389485736739, 0.8249389485736739, 0.8249389485736739, 0.8423069139416393, 0.8423069139416393, 0.8423069139416393, 0.8423069139416393, 0.8423069139416393, 0.8423069139416393, 0.8423069139416393, 0.8423069139416393, 0.8423069139416393, 0.8423069139416393, 0.8423069139416393, 0.8423069139416393, 0.8423069139416393, 0.8423069139416393, 0.8423069139416393, 0.8423069139416393, 0.8423069139416393, 0.8423069139416393, 0.8423069139416393, 0.8423069139416393, 0.8423069139416393, 0.8423069139416393, 0.8487553266400519, 0.8487553266400519]}], \"recall_score_micro\": [{\"categories\": [\"0\", \"1\", \"2\", \"3\", \"4\", \"5\", \"6\", \"7\", \"8\", \"9\", \"10\", \"11\", \"12\", \"13\", \"14\", \"15\", \"16\", \"17\", \"18\", \"19\", \"20\", \"21\", \"22\", \"23\", \"24\", \"25\", \"26\", \"27\", \"28\", \"29\", \"30\", \"31\", \"32\", \"33\", \"34\", \"35\", \"38\", \"39\"], \"mode\": \"markers\", \"name\": \"recall_score_micro\", \"stepped\": false, \"type\": \"scatter\", \"data\": [0.8359770114942527, 0.8358620689655172, 0.8258620689655171, 0.8326436781609194, 0.8226436781609194, 0.792528735632184, 0.8457471264367816, 0.8093103448275862, 0.8327586206896551, 0.8228735632183908, 0.8527586206896551, 0.8195402298850574, 0.8494252873563217, 0.8426436781609195, 0.8663218390804598, 0.822528735632184, 0.8260919540229885, 0.7593103448275862, 0.8527586206896552, 0.8358620689655172, 0.8460919540229886, 0.7994252873563219, 0.7725287356321839, 0.8193103448275861, 0.8425287356321839, 0.6791954022988507, 0.8459770114942529, 0.8362068965517242, 0.8158620689655173, 0.8427586206896551, 0.6791954022988507, 0.7425287356321839, 0.8495402298850575, 0.8462068965517242, 0.7925287356321838, 0.8257471264367815, 0.8763218390804598, 0.8627586206896553]}, {\"categories\": [\"0\", \"1\", \"2\", \"3\", \"4\", \"5\", \"6\", \"7\", \"8\", \"9\", \"10\", \"11\", \"12\", \"13\", \"14\", \"15\", \"16\", \"17\", \"18\", \"19\", \"20\", \"21\", \"22\", \"23\", \"24\", \"25\", \"26\", \"27\", \"28\", \"29\", \"30\", \"31\", \"32\", \"33\", \"34\", \"35\", \"38\", \"39\"], \"mode\": \"lines\", \"name\": \"recall_score_micro_max\", \"stepped\": true, \"type\": \"scatter\", \"data\": [0.8359770114942527, 0.8359770114942527, 0.8359770114942527, 0.8359770114942527, 0.8359770114942527, 0.8359770114942527, 0.8457471264367816, 0.8457471264367816, 0.8457471264367816, 0.8457471264367816, 0.8527586206896551, 0.8527586206896551, 0.8527586206896551, 0.8527586206896551, 0.8663218390804598, 0.8663218390804598, 0.8663218390804598, 0.8663218390804598, 0.8663218390804598, 0.8663218390804598, 0.8663218390804598, 0.8663218390804598, 0.8663218390804598, 0.8663218390804598, 0.8663218390804598, 0.8663218390804598, 0.8663218390804598, 0.8663218390804598, 0.8663218390804598, 0.8663218390804598, 0.8663218390804598, 0.8663218390804598, 0.8663218390804598, 0.8663218390804598, 0.8663218390804598, 0.8663218390804598, 0.8763218390804598, 0.8763218390804598]}], \"accuracy\": [{\"categories\": [\"0\", \"1\", \"2\", \"3\", \"4\", \"5\", \"6\", \"7\", \"8\", \"9\", \"10\", \"11\", \"12\", \"13\", \"14\", \"15\", \"16\", \"17\", \"18\", \"19\", \"20\", \"21\", \"22\", \"23\", \"24\", \"25\", \"26\", \"27\", \"28\", \"29\", \"30\", \"31\", \"32\", \"33\", \"34\", \"35\", \"38\", \"39\"], \"mode\": \"markers\", \"name\": \"accuracy\", \"stepped\": false, \"type\": \"scatter\", \"data\": [0.8359770114942527, 0.8358620689655172, 0.8258620689655171, 0.8326436781609194, 0.8226436781609194, 0.792528735632184, 0.8457471264367816, 0.8093103448275862, 0.8327586206896551, 0.8228735632183908, 0.8527586206896551, 0.8195402298850574, 0.8494252873563217, 0.8426436781609195, 0.8663218390804598, 0.822528735632184, 0.8260919540229885, 0.7593103448275862, 0.8527586206896552, 0.8358620689655172, 0.8460919540229886, 0.7994252873563219, 0.7725287356321839, 0.8193103448275861, 0.8425287356321839, 0.6791954022988507, 0.8459770114942529, 0.8362068965517242, 0.8158620689655173, 0.8427586206896551, 0.6791954022988507, 0.7425287356321839, 0.8495402298850575, 0.8462068965517242, 0.7925287356321838, 0.8257471264367815, 0.8763218390804598, 0.8627586206896553]}, {\"categories\": [\"0\", \"1\", \"2\", \"3\", \"4\", \"5\", \"6\", \"7\", \"8\", \"9\", \"10\", \"11\", \"12\", \"13\", \"14\", \"15\", \"16\", \"17\", \"18\", \"19\", \"20\", \"21\", \"22\", \"23\", \"24\", \"25\", \"26\", \"27\", \"28\", \"29\", \"30\", \"31\", \"32\", \"33\", \"34\", \"35\", \"38\", \"39\"], \"mode\": \"lines\", \"name\": \"accuracy_max\", \"stepped\": true, \"type\": \"scatter\", \"data\": [0.8359770114942527, 0.8359770114942527, 0.8359770114942527, 0.8359770114942527, 0.8359770114942527, 0.8359770114942527, 0.8457471264367816, 0.8457471264367816, 0.8457471264367816, 0.8457471264367816, 0.8527586206896551, 0.8527586206896551, 0.8527586206896551, 0.8527586206896551, 0.8663218390804598, 0.8663218390804598, 0.8663218390804598, 0.8663218390804598, 0.8663218390804598, 0.8663218390804598, 0.8663218390804598, 0.8663218390804598, 0.8663218390804598, 0.8663218390804598, 0.8663218390804598, 0.8663218390804598, 0.8663218390804598, 0.8663218390804598, 0.8663218390804598, 0.8663218390804598, 0.8663218390804598, 0.8663218390804598, 0.8663218390804598, 0.8663218390804598, 0.8663218390804598, 0.8663218390804598, 0.8763218390804598, 0.8763218390804598]}], \"f1_score_macro\": [{\"categories\": [\"0\", \"1\", \"2\", \"3\", \"4\", \"5\", \"6\", \"7\", \"8\", \"9\", \"10\", \"11\", \"12\", \"13\", \"14\", \"15\", \"16\", \"17\", \"18\", \"19\", \"20\", \"21\", \"22\", \"23\", \"24\", \"25\", \"26\", \"27\", \"28\", \"29\", \"30\", \"31\", \"32\", \"33\", \"34\", \"35\", \"38\", \"39\"], \"mode\": \"markers\", \"name\": \"f1_score_macro\", \"stepped\": false, \"type\": \"scatter\", \"data\": [0.8043314151248963, 0.8078501228997539, 0.7886568592666044, 0.7931027132768345, 0.7951235215530064, 0.7627173409308519, 0.8174071974761026, 0.7603669925285953, 0.795801446434647, 0.7844731356932927, 0.823131027445578, 0.7695296688112171, 0.8098217202788932, 0.8113981789804023, 0.8422891029678954, 0.7856989036438273, 0.7754192497122441, 0.6219075071334602, 0.822092770682701, 0.8043202694352758, 0.799323219547403, 0.7101744217921057, 0.6641564063001983, 0.7737893938798028, 0.8134576789359711, 0.4024893878511494, 0.8149865110301976, 0.8062936525373925, 0.7788105343800404, 0.803411535827063, 0.4024893878511494, 0.5700301689066498, 0.8227452278306762, 0.8149809370356206, 0.7216139103134173, 0.7943611739138056, 0.8523696072483118, 0.836754973935899]}, {\"categories\": [\"0\", \"1\", \"2\", \"3\", \"4\", \"5\", \"6\", \"7\", \"8\", \"9\", \"10\", \"11\", \"12\", \"13\", \"14\", \"15\", \"16\", \"17\", \"18\", \"19\", \"20\", \"21\", \"22\", \"23\", \"24\", \"25\", \"26\", \"27\", \"28\", \"29\", \"30\", \"31\", \"32\", \"33\", \"34\", \"35\", \"38\", \"39\"], \"mode\": \"lines\", \"name\": \"f1_score_macro_max\", \"stepped\": true, \"type\": \"scatter\", \"data\": [0.8043314151248963, 0.8078501228997539, 0.8078501228997539, 0.8078501228997539, 0.8078501228997539, 0.8078501228997539, 0.8174071974761026, 0.8174071974761026, 0.8174071974761026, 0.8174071974761026, 0.823131027445578, 0.823131027445578, 0.823131027445578, 0.823131027445578, 0.8422891029678954, 0.8422891029678954, 0.8422891029678954, 0.8422891029678954, 0.8422891029678954, 0.8422891029678954, 0.8422891029678954, 0.8422891029678954, 0.8422891029678954, 0.8422891029678954, 0.8422891029678954, 0.8422891029678954, 0.8422891029678954, 0.8422891029678954, 0.8422891029678954, 0.8422891029678954, 0.8422891029678954, 0.8422891029678954, 0.8422891029678954, 0.8422891029678954, 0.8422891029678954, 0.8422891029678954, 0.8523696072483118, 0.8523696072483118]}], \"average_precision_score_micro\": [{\"categories\": [\"0\", \"1\", \"2\", \"3\", \"4\", \"5\", \"6\", \"7\", \"8\", \"9\", \"10\", \"11\", \"12\", \"13\", \"14\", \"15\", \"16\", \"17\", \"18\", \"19\", \"20\", \"21\", \"22\", \"23\", \"24\", \"25\", \"26\", \"27\", \"28\", \"29\", \"30\", \"31\", \"32\", \"33\", \"34\", \"35\", \"38\", \"39\"], \"mode\": \"markers\", \"name\": \"average_precision_score_micro\", \"stepped\": false, \"type\": \"scatter\", \"data\": [0.9020054536251629, 0.9033793522124445, 0.9046757142581194, 0.8990417482845876, 0.9101190783713559, 0.8622069868095963, 0.9157905609067445, 0.876380860099481, 0.9076713764950277, 0.895111815566743, 0.9031862059154594, 0.9019715624413595, 0.9172180770076725, 0.9158839806438364, 0.9028531437811458, 0.908793605602976, 0.9045880262347422, 0.8688128363733986, 0.9116997112880789, 0.9138480568763893, 0.9027034782065761, 0.8798799003731752, 0.8783246168551602, 0.9015898182130119, 0.9140810408453633, 0.6309528339278636, 0.9093198276124153, 0.8969673089031585, 0.8909286555285068, 0.912107301685465, 0.6355454467423886, 0.8630471892198919, 0.9078052419758492, 0.9024597362258472, 0.8908476065801665, 0.91096228893086, 0.9255012812300241, 0.9186407081963462]}, {\"categories\": [\"0\", \"1\", \"2\", \"3\", \"4\", \"5\", \"6\", \"7\", \"8\", \"9\", \"10\", \"11\", \"12\", \"13\", \"14\", \"15\", \"16\", \"17\", \"18\", \"19\", \"20\", \"21\", \"22\", \"23\", \"24\", \"25\", \"26\", \"27\", \"28\", \"29\", \"30\", \"31\", \"32\", \"33\", \"34\", \"35\", \"38\", \"39\"], \"mode\": \"lines\", \"name\": \"average_precision_score_micro_max\", \"stepped\": true, \"type\": \"scatter\", \"data\": [0.9020054536251629, 0.9033793522124445, 0.9046757142581194, 0.9046757142581194, 0.9101190783713559, 0.9101190783713559, 0.9157905609067445, 0.9157905609067445, 0.9157905609067445, 0.9157905609067445, 0.9157905609067445, 0.9157905609067445, 0.9172180770076725, 0.9172180770076725, 0.9172180770076725, 0.9172180770076725, 0.9172180770076725, 0.9172180770076725, 0.9172180770076725, 0.9172180770076725, 0.9172180770076725, 0.9172180770076725, 0.9172180770076725, 0.9172180770076725, 0.9172180770076725, 0.9172180770076725, 0.9172180770076725, 0.9172180770076725, 0.9172180770076725, 0.9172180770076725, 0.9172180770076725, 0.9172180770076725, 0.9172180770076725, 0.9172180770076725, 0.9172180770076725, 0.9172180770076725, 0.9255012812300241, 0.9255012812300241]}]}, \"metricName\": null, \"primaryMetricName\": \"accuracy\", \"showLegend\": false}, \"run_metrics\": [{\"name\": \"experiment_status\", \"run_id\": \"AutoML_81b2b526-2f3b-42e6-bedf-bc0687eeaed6\", \"categories\": [0, 1, 2, 3, 4, 5, 6, 7, 8, 9, 10, 11, 12, 13], \"series\": [{\"data\": [\"DatasetEvaluation\", \"FeaturesGeneration\", \"DatasetFeaturization\", \"DatasetFeaturizationCompleted\", \"DatasetCrossValidationSplit\", \"ModelSelection\", \"BestRunExplainModel\", \"ModelExplanationDataSetSetup\", \"PickSurrogateModel\", \"EngineeredFeatureExplanations\", \"EngineeredFeatureExplanations\", \"RawFeaturesExplanations\", \"RawFeaturesExplanations\", \"BestRunExplainModel\"]}]}, {\"name\": \"experiment_status_description\", \"run_id\": \"AutoML_81b2b526-2f3b-42e6-bedf-bc0687eeaed6\", \"categories\": [0, 1, 2, 3, 4, 5, 6, 7, 8, 9, 10, 11, 12, 13], \"series\": [{\"data\": [\"Gathering dataset statistics.\", \"Generating features for the dataset.\", \"Beginning to fit featurizers and featurize the dataset.\", \"Completed fit featurizers and featurizing the dataset.\", \"Generating individually featurized CV splits.\", \"Beginning model selection.\", \"Best run model explanations started\", \"Model explanations data setup completed\", \"Choosing LightGBM as the surrogate model for explanations\", \"Computation of engineered features started\", \"Computation of engineered features completed\", \"Computation of raw features started\", \"Computation of raw features completed\", \"Best run model explanations completed\"]}]}, {\"name\": \"log_loss\", \"run_id\": \"AutoML_81b2b526-2f3b-42e6-bedf-bc0687eeaed6\", \"categories\": [0], \"series\": [{\"data\": [0.35678780556620343]}]}, {\"name\": \"precision_score_macro\", \"run_id\": \"AutoML_81b2b526-2f3b-42e6-bedf-bc0687eeaed6\", \"categories\": [0], \"series\": [{\"data\": [0.8814139299551199]}]}, {\"name\": \"average_precision_score_weighted\", \"run_id\": \"AutoML_81b2b526-2f3b-42e6-bedf-bc0687eeaed6\", \"categories\": [0], \"series\": [{\"data\": [0.9308416648773268]}]}, {\"name\": \"weighted_accuracy\", \"run_id\": \"AutoML_81b2b526-2f3b-42e6-bedf-bc0687eeaed6\", \"categories\": [0], \"series\": [{\"data\": [0.894344335592302]}]}, {\"name\": \"f1_score_macro\", \"run_id\": \"AutoML_81b2b526-2f3b-42e6-bedf-bc0687eeaed6\", \"categories\": [0], \"series\": [{\"data\": [0.8523696072483118]}]}, {\"name\": \"AUC_macro\", \"run_id\": \"AutoML_81b2b526-2f3b-42e6-bedf-bc0687eeaed6\", \"categories\": [0], \"series\": [{\"data\": [0.9189431343785464]}]}, {\"name\": \"accuracy\", \"run_id\": \"AutoML_81b2b526-2f3b-42e6-bedf-bc0687eeaed6\", \"categories\": [0], \"series\": [{\"data\": [0.8763218390804598]}]}, {\"name\": \"precision_score_weighted\", \"run_id\": \"AutoML_81b2b526-2f3b-42e6-bedf-bc0687eeaed6\", \"categories\": [0], \"series\": [{\"data\": [0.889871678591595]}]}, {\"name\": \"norm_macro_recall\", \"run_id\": \"AutoML_81b2b526-2f3b-42e6-bedf-bc0687eeaed6\", \"categories\": [0], \"series\": [{\"data\": [0.6975106532801041]}]}, {\"name\": \"precision_score_micro\", \"run_id\": \"AutoML_81b2b526-2f3b-42e6-bedf-bc0687eeaed6\", \"categories\": [0], \"series\": [{\"data\": [0.8763218390804598]}]}, {\"name\": \"AUC_micro\", \"run_id\": \"AutoML_81b2b526-2f3b-42e6-bedf-bc0687eeaed6\", \"categories\": [0], \"series\": [{\"data\": [0.922750693618708]}]}, {\"name\": \"recall_score_macro\", \"run_id\": \"AutoML_81b2b526-2f3b-42e6-bedf-bc0687eeaed6\", \"categories\": [0], \"series\": [{\"data\": [0.8487553266400519]}]}, {\"name\": \"f1_score_micro\", \"run_id\": \"AutoML_81b2b526-2f3b-42e6-bedf-bc0687eeaed6\", \"categories\": [0], \"series\": [{\"data\": [0.8763218390804598]}]}, {\"name\": \"recall_score_micro\", \"run_id\": \"AutoML_81b2b526-2f3b-42e6-bedf-bc0687eeaed6\", \"categories\": [0], \"series\": [{\"data\": [0.8763218390804598]}]}, {\"name\": \"average_precision_score_macro\", \"run_id\": \"AutoML_81b2b526-2f3b-42e6-bedf-bc0687eeaed6\", \"categories\": [0], \"series\": [{\"data\": [0.909851704919947]}]}, {\"name\": \"AUC_weighted\", \"run_id\": \"AutoML_81b2b526-2f3b-42e6-bedf-bc0687eeaed6\", \"categories\": [0], \"series\": [{\"data\": [0.9189431343785464]}]}, {\"name\": \"recall_score_weighted\", \"run_id\": \"AutoML_81b2b526-2f3b-42e6-bedf-bc0687eeaed6\", \"categories\": [0], \"series\": [{\"data\": [0.8763218390804598]}]}, {\"name\": \"matthews_correlation\", \"run_id\": \"AutoML_81b2b526-2f3b-42e6-bedf-bc0687eeaed6\", \"categories\": [0], \"series\": [{\"data\": [0.7275926385633272]}]}, {\"name\": \"average_precision_score_micro\", \"run_id\": \"AutoML_81b2b526-2f3b-42e6-bedf-bc0687eeaed6\", \"categories\": [0], \"series\": [{\"data\": [0.9255012812300241]}]}, {\"name\": \"balanced_accuracy\", \"run_id\": \"AutoML_81b2b526-2f3b-42e6-bedf-bc0687eeaed6\", \"categories\": [0], \"series\": [{\"data\": [0.8487553266400519]}]}, {\"name\": \"f1_score_weighted\", \"run_id\": \"AutoML_81b2b526-2f3b-42e6-bedf-bc0687eeaed6\", \"categories\": [0], \"series\": [{\"data\": [0.8720932016548396]}]}], \"run_logs\": \"\\nRun is completed.\", \"graph\": {}, \"widget_settings\": {\"childWidgetDisplay\": \"popup\", \"send_telemetry\": false, \"log_level\": \"INFO\", \"sdk_version\": \"1.30.0\"}, \"loading\": false}"
          },
          "metadata": {}
        }
      ],
      "execution_count": 16,
      "metadata": {
        "gather": {
          "logged": 1624343267879
        },
        "jupyter": {
          "outputs_hidden": false,
          "source_hidden": false
        },
        "nteract": {
          "transient": {
            "deleting": false
          }
        }
      }
    },
    {
      "cell_type": "code",
      "source": [
        "remote_run.wait_for_completion(show_output=True)"
      ],
      "outputs": [
        {
          "output_type": "display_data",
          "data": {
            "text/plain": "<IPython.core.display.HTML object>",
            "text/html": "<table style=\"width:100%\"><tr><th>Experiment</th><th>Id</th><th>Type</th><th>Status</th><th>Details Page</th><th>Docs Page</th></tr><tr><td>heart-experiment</td><td>AutoML_81b2b526-2f3b-42e6-bedf-bc0687eeaed6</td><td>automl</td><td>Running</td><td><a href=\"https://ml.azure.com/runs/AutoML_81b2b526-2f3b-42e6-bedf-bc0687eeaed6?wsid=/subscriptions/48a74bb7-9950-4cc1-9caa-5d50f995cc55/resourcegroups/aml-quickstarts-147669/workspaces/quick-starts-ws-147669&amp;tid=660b3398-b80e-49d2-bc5b-ac1dc93b5254\" target=\"_blank\" rel=\"noopener\">Link to Azure Machine Learning studio</a></td><td><a href=\"https://docs.microsoft.com/en-us/python/api/overview/azure/ml/intro?view=azure-ml-py\" target=\"_blank\" rel=\"noopener\">Link to Documentation</a></td></tr></table>"
          },
          "metadata": {}
        },
        {
          "output_type": "stream",
          "name": "stdout",
          "text": [
            "\n",
            "Current status: ModelSelection. Beginning model selection.\n",
            "\n",
            "****************************************************************************************************\n",
            "DATA GUARDRAILS: \n",
            "\n",
            "TYPE:         Cross validation\n",
            "STATUS:       DONE\n",
            "DESCRIPTION:  Each iteration of the trained model was validated through cross-validation.\n",
            "              \n",
            "DETAILS:      \n",
            "+---------------------------------+\n",
            "|Number of folds                  |\n",
            "+=================================+\n",
            "|10                               |\n",
            "+---------------------------------+\n",
            "\n",
            "****************************************************************************************************\n",
            "\n",
            "TYPE:         Class balancing detection\n",
            "STATUS:       PASSED\n",
            "DESCRIPTION:  Your inputs were analyzed, and all classes are balanced in your training data.\n",
            "              Learn more about imbalanced data: https://aka.ms/AutomatedMLImbalancedData\n",
            "\n",
            "****************************************************************************************************\n",
            "\n",
            "TYPE:         Missing feature values imputation\n",
            "STATUS:       PASSED\n",
            "DESCRIPTION:  No feature missing values were detected in the training data.\n",
            "              Learn more about missing value imputation: https://aka.ms/AutomatedMLFeaturization\n",
            "\n",
            "****************************************************************************************************\n",
            "\n",
            "TYPE:         High cardinality feature detection\n",
            "STATUS:       PASSED\n",
            "DESCRIPTION:  Your inputs were analyzed, and no high cardinality features were detected.\n",
            "              Learn more about high cardinality feature handling: https://aka.ms/AutomatedMLFeaturization\n",
            "\n",
            "****************************************************************************************************\n",
            "\n",
            "****************************************************************************************************\n",
            "ITERATION: The iteration being evaluated.\n",
            "PIPELINE: A summary description of the pipeline being evaluated.\n",
            "DURATION: Time taken for the current iteration.\n",
            "METRIC: The result of computing score on the fitted pipeline.\n",
            "BEST: The best observed score thus far.\n",
            "****************************************************************************************************\n",
            "\n",
            " ITERATION   PIPELINE                                       DURATION      METRIC      BEST\n",
            "         3   MinMaxScaler RandomForest                      0:00:45       0.8326    0.8326\n",
            "         0   MaxAbsScaler LightGBM                          0:00:46       0.8360    0.8360\n",
            "         5   StandardScalerWrapper LogisticRegression       0:00:42       0.7925    0.8360\n",
            "         6   StandardScalerWrapper LightGBM                 0:00:47       0.8457    0.8457\n",
            "         1   MaxAbsScaler XGBoostClassifier                 0:02:36       0.8359    0.8457\n",
            "         2   MinMaxScaler RandomForest                      0:02:44       0.8259    0.8457\n",
            "         7   SparseNormalizer XGBoostClassifier             0:00:41       0.8093    0.8457\n",
            "         4   MinMaxScaler RandomForest                      0:03:10       0.8226    0.8457\n",
            "         8   SparseNormalizer XGBoostClassifier             0:00:43       0.8328    0.8457\n",
            "         9   SparseNormalizer XGBoostClassifier             0:00:44       0.8229    0.8457\n",
            "        10   SparseNormalizer XGBoostClassifier             0:00:47       0.8528    0.8528\n",
            "        11   StandardScalerWrapper XGBoostClassifier        0:00:46       0.8195    0.8528\n",
            "        12   StandardScalerWrapper RandomForest             0:00:43       0.8494    0.8528\n",
            "        13   StandardScalerWrapper LightGBM                 0:00:42       0.8426    0.8528\n",
            "        14   SparseNormalizer XGBoostClassifier             0:00:46       0.8663    0.8663\n",
            "        15   RobustScaler LightGBM                          0:00:44       0.8225    0.8663\n",
            "        16   MinMaxScaler LightGBM                          0:00:44       0.8261    0.8663\n",
            "        17   MaxAbsScaler LightGBM                          0:00:46       0.7593    0.8663\n",
            "        18   SparseNormalizer XGBoostClassifier             0:00:47       0.8528    0.8663\n",
            "        19   MaxAbsScaler LightGBM                          0:00:47       0.8359    0.8663\n",
            "        20   StandardScalerWrapper ExtremeRandomTrees       0:00:43       0.8461    0.8663\n",
            "        21   RobustScaler LightGBM                          0:00:45       0.7994    0.8663\n",
            "        22   StandardScalerWrapper LightGBM                 0:00:46       0.7725    0.8663\n",
            "        23   SparseNormalizer XGBoostClassifier             0:00:47       0.8193    0.8663\n",
            "        24   MinMaxScaler LightGBM                          0:00:43       0.8425    0.8663\n",
            "        25   TruncatedSVDWrapper XGBoostClassifier          0:00:43       0.6792    0.8663\n",
            "        26   SparseNormalizer XGBoostClassifier             0:00:48       0.8460    0.8663\n",
            "        27   SparseNormalizer XGBoostClassifier             0:00:44       0.8362    0.8663\n",
            "        28   MinMaxScaler RandomForest                      0:00:45       0.8159    0.8663\n",
            "        29   MinMaxScaler LightGBM                          0:00:49       0.8428    0.8663\n",
            "        30   PCA XGBoostClassifier                          0:00:43       0.6792    0.8663\n",
            "        31   MinMaxScaler LightGBM                          0:00:47       0.7425    0.8663\n",
            "        32   SparseNormalizer XGBoostClassifier             0:00:46       0.8495    0.8663\n",
            "        33   SparseNormalizer XGBoostClassifier             0:00:41       0.8462    0.8663\n",
            "        34   StandardScalerWrapper LightGBM                 0:00:43       0.7925    0.8663\n",
            "        35   StandardScalerWrapper XGBoostClassifier        0:00:25       0.8257    0.8663\n",
            "        36                                                  0:00:35          nan    0.8663\n",
            "        37                                                  0:00:15          nan    0.8663\n",
            "        38    VotingEnsemble                                0:01:02       0.8763    0.8763\n",
            "        39    StackEnsemble                                 0:01:02       0.8628    0.8763\n"
          ]
        },
        {
          "output_type": "execute_result",
          "execution_count": 17,
          "data": {
            "text/plain": "{'runId': 'AutoML_81b2b526-2f3b-42e6-bedf-bc0687eeaed6',\n 'target': 'cpu-cluster-exp',\n 'status': 'Completed',\n 'startTimeUtc': '2021-06-22T06:25:54.185068Z',\n 'endTimeUtc': '2021-06-22T06:46:04.211911Z',\n 'properties': {'num_iterations': '1000',\n  'training_type': 'TrainFull',\n  'acquisition_function': 'EI',\n  'primary_metric': 'accuracy',\n  'train_split': '0',\n  'acquisition_parameter': '0',\n  'num_cross_validation': None,\n  'target': 'cpu-cluster-exp',\n  'AMLSettingsJsonString': '{\"path\":null,\"name\":\"heart-experiment\",\"subscription_id\":\"48a74bb7-9950-4cc1-9caa-5d50f995cc55\",\"resource_group\":\"aml-quickstarts-147669\",\"workspace_name\":\"quick-starts-ws-147669\",\"region\":\"southcentralus\",\"compute_target\":\"cpu-cluster-exp\",\"spark_service\":null,\"azure_service\":\"remote\",\"many_models\":false,\"pipeline_fetch_max_batch_size\":1,\"enable_batch_run\":false,\"enable_run_restructure\":false,\"start_auxiliary_runs_before_parent_complete\":false,\"enable_code_generation\":false,\"iterations\":1000,\"primary_metric\":\"accuracy\",\"task_type\":\"classification\",\"data_script\":null,\"test_size\":0.0,\"validation_size\":0.0,\"n_cross_validations\":null,\"y_min\":null,\"y_max\":null,\"num_classes\":null,\"featurization\":\"auto\",\"_ignore_package_version_incompatibilities\":false,\"is_timeseries\":false,\"max_cores_per_iteration\":1,\"max_concurrent_iterations\":5,\"iteration_timeout_minutes\":null,\"mem_in_mb\":null,\"enforce_time_on_windows\":false,\"experiment_timeout_minutes\":20,\"experiment_exit_score\":null,\"whitelist_models\":null,\"blacklist_algos\":[\"TensorFlowLinearClassifier\",\"TensorFlowDNN\"],\"supported_models\":[\"TensorFlowDNN\",\"XGBoostClassifier\",\"SGD\",\"BernoulliNaiveBayes\",\"SVM\",\"GradientBoosting\",\"LightGBM\",\"RandomForest\",\"ExtremeRandomTrees\",\"DecisionTree\",\"MultinomialNaiveBayes\",\"KNN\",\"LogisticRegression\",\"TensorFlowLinearClassifier\",\"LinearSVM\",\"AveragedPerceptronClassifier\"],\"private_models\":[],\"auto_blacklist\":true,\"blacklist_samples_reached\":false,\"exclude_nan_labels\":true,\"verbosity\":20,\"_debug_log\":\"azureml_automl.log\",\"show_warnings\":false,\"model_explainability\":true,\"service_url\":null,\"sdk_url\":null,\"sdk_packages\":null,\"enable_onnx_compatible_models\":false,\"enable_split_onnx_featurizer_estimator_models\":false,\"vm_type\":\"STANDARD_D2_V2\",\"telemetry_verbosity\":20,\"send_telemetry\":true,\"enable_dnn\":false,\"scenario\":\"SDK-1.13.0\",\"environment_label\":null,\"save_mlflow\":false,\"force_text_dnn\":false,\"enable_feature_sweeping\":true,\"enable_early_stopping\":true,\"early_stopping_n_iters\":10,\"metrics\":null,\"enable_metric_confidence\":false,\"enable_ensembling\":true,\"enable_stack_ensembling\":true,\"ensemble_iterations\":15,\"enable_tf\":false,\"enable_subsampling\":null,\"subsample_seed\":null,\"enable_nimbusml\":false,\"enable_streaming\":false,\"force_streaming\":false,\"track_child_runs\":true,\"allowed_private_models\":[],\"label_column_name\":\"DEATH_EVENT\",\"weight_column_name\":null,\"cv_split_column_names\":null,\"enable_local_managed\":false,\"_local_managed_run_id\":null,\"cost_mode\":1,\"lag_length\":0,\"metric_operation\":\"maximize\",\"preprocess\":true}',\n  'DataPrepJsonString': '{\\\\\"training_data\\\\\": {\\\\\"datasetId\\\\\": \\\\\"b1da4fb3-ebfc-407f-8279-d27d718aa7a8\\\\\"}, \\\\\"datasets\\\\\": 0}',\n  'EnableSubsampling': None,\n  'runTemplate': 'AutoML',\n  'azureml.runsource': 'automl',\n  'display_task_type': 'classification',\n  'dependencies_versions': '{\"azureml-widgets\": \"1.30.0\", \"azureml-train\": \"1.30.0\", \"azureml-train-restclients-hyperdrive\": \"1.30.0\", \"azureml-train-core\": \"1.30.0\", \"azureml-train-automl\": \"1.30.0\", \"azureml-train-automl-runtime\": \"1.30.0\", \"azureml-train-automl-client\": \"1.30.0\", \"azureml-tensorboard\": \"1.30.0\", \"azureml-telemetry\": \"1.30.0\", \"azureml-sdk\": \"1.30.0\", \"azureml-samples\": \"0+unknown\", \"azureml-pipeline\": \"1.30.0\", \"azureml-pipeline-steps\": \"1.30.0\", \"azureml-pipeline-core\": \"1.30.0\", \"azureml-opendatasets\": \"1.30.0\", \"azureml-model-management-sdk\": \"1.0.1b6.post1\", \"azureml-mlflow\": \"1.30.0\", \"azureml-interpret\": \"1.30.0\", \"azureml-explain-model\": \"1.30.0\", \"azureml-defaults\": \"1.30.0\", \"azureml-dataset-runtime\": \"1.30.0\", \"azureml-dataprep\": \"2.15.1\", \"azureml-dataprep-rslex\": \"1.13.0\", \"azureml-dataprep-native\": \"33.0.0\", \"azureml-datadrift\": \"1.30.0\", \"azureml-core\": \"1.30.0\", \"azureml-contrib-services\": \"1.30.0\", \"azureml-contrib-server\": \"1.30.0\", \"azureml-contrib-reinforcementlearning\": \"1.30.0\", \"azureml-contrib-pipeline-steps\": \"1.30.0\", \"azureml-contrib-notebook\": \"1.30.0\", \"azureml-contrib-fairness\": \"1.30.0\", \"azureml-contrib-dataset\": \"1.30.0\", \"azureml-cli-common\": \"1.30.0\", \"azureml-automl-runtime\": \"1.30.0\", \"azureml-automl-dnn-nlp\": \"1.30.0\", \"azureml-automl-core\": \"1.30.0\", \"azureml-accel-models\": \"1.30.0\"}',\n  '_aml_system_scenario_identification': 'Remote.Parent',\n  'ClientType': 'SDK',\n  'environment_cpu_name': 'AzureML-AutoML',\n  'environment_cpu_label': 'prod',\n  'environment_gpu_name': 'AzureML-AutoML-GPU',\n  'environment_gpu_label': 'prod',\n  'root_attribution': 'automl',\n  'attribution': 'AutoML',\n  'Orchestrator': 'AutoML',\n  'CancelUri': 'https://southcentralus.api.azureml.ms/jasmine/v1.0/subscriptions/48a74bb7-9950-4cc1-9caa-5d50f995cc55/resourceGroups/aml-quickstarts-147669/providers/Microsoft.MachineLearningServices/workspaces/quick-starts-ws-147669/experimentids/44718e31-3bc7-485c-9b52-389f95597829/cancel/AutoML_81b2b526-2f3b-42e6-bedf-bc0687eeaed6',\n  'ClientSdkVersion': '1.30.0',\n  'snapshotId': '00000000-0000-0000-0000-000000000000',\n  'SetupRunId': 'AutoML_81b2b526-2f3b-42e6-bedf-bc0687eeaed6_setup',\n  'SetupRunContainerId': 'dcid.AutoML_81b2b526-2f3b-42e6-bedf-bc0687eeaed6_setup',\n  'FeaturizationRunJsonPath': 'featurizer_container.json',\n  'FeaturizationRunId': 'AutoML_81b2b526-2f3b-42e6-bedf-bc0687eeaed6_featurize',\n  'ProblemInfoJsonString': '{\"dataset_num_categorical\": 0, \"is_sparse\": false, \"subsampling\": false, \"has_extra_col\": true, \"dataset_classes\": 2, \"dataset_features\": 12, \"dataset_samples\": 299, \"single_frequency_class_detected\": false}',\n  'ModelExplainRunId': 'AutoML_81b2b526-2f3b-42e6-bedf-bc0687eeaed6_ModelExplain'},\n 'inputDatasets': [{'dataset': {'id': 'b1da4fb3-ebfc-407f-8279-d27d718aa7a8'}, 'consumptionDetails': {'type': 'RunInput', 'inputName': 'training_data', 'mechanism': 'Direct'}}],\n 'outputDatasets': [],\n 'logFiles': {},\n 'submittedBy': 'ODL_User 147669'}"
          },
          "metadata": {}
        }
      ],
      "execution_count": 17,
      "metadata": {
        "collapsed": true,
        "jupyter": {
          "source_hidden": false,
          "outputs_hidden": false
        },
        "nteract": {
          "transient": {
            "deleting": false
          }
        },
        "gather": {
          "logged": 1624344378560
        }
      }
    },
    {
      "cell_type": "markdown",
      "source": [
        "## Best Model\n",
        "\n",
        "TODO: In the cell below, get the best model from the automl experiments and display all the properties of the model.\n",
        "\n"
      ],
      "metadata": {}
    },
    {
      "cell_type": "code",
      "source": [
        "best_model, fitted_model = remote_run.get_output()\r\n",
        "best_model.get_metrics()"
      ],
      "outputs": [
        {
          "output_type": "execute_result",
          "execution_count": 18,
          "data": {
            "text/plain": "{'matthews_correlation': 0.7275926385633272,\n 'AUC_weighted': 0.9189431343785464,\n 'f1_score_micro': 0.8763218390804598,\n 'recall_score_weighted': 0.8763218390804598,\n 'f1_score_weighted': 0.8720932016548396,\n 'recall_score_macro': 0.8487553266400519,\n 'precision_score_weighted': 0.889871678591595,\n 'average_precision_score_micro': 0.9255012812300241,\n 'weighted_accuracy': 0.894344335592302,\n 'average_precision_score_macro': 0.909851704919947,\n 'recall_score_micro': 0.8763218390804598,\n 'f1_score_macro': 0.8523696072483118,\n 'balanced_accuracy': 0.8487553266400519,\n 'log_loss': 0.35678780556620343,\n 'AUC_micro': 0.922750693618708,\n 'precision_score_macro': 0.8814139299551199,\n 'accuracy': 0.8763218390804598,\n 'norm_macro_recall': 0.6975106532801041,\n 'average_precision_score_weighted': 0.9308416648773268,\n 'AUC_macro': 0.9189431343785464,\n 'precision_score_micro': 0.8763218390804598,\n 'accuracy_table': 'aml://artifactId/ExperimentRun/dcid.AutoML_81b2b526-2f3b-42e6-bedf-bc0687eeaed6_38/accuracy_table',\n 'confusion_matrix': 'aml://artifactId/ExperimentRun/dcid.AutoML_81b2b526-2f3b-42e6-bedf-bc0687eeaed6_38/confusion_matrix'}"
          },
          "metadata": {}
        }
      ],
      "execution_count": 18,
      "metadata": {
        "gather": {
          "logged": 1624344914766
        },
        "jupyter": {
          "outputs_hidden": false,
          "source_hidden": false
        },
        "nteract": {
          "transient": {
            "deleting": false
          }
        }
      }
    },
    {
      "cell_type": "code",
      "source": [
        "print(\"best automl model:\\n{}\".format(best_model))\r\n"
      ],
      "outputs": [
        {
          "output_type": "stream",
          "name": "stdout",
          "text": [
            "best automl model:\n",
            "Run(Experiment: heart-experiment,\n",
            "Id: AutoML_81b2b526-2f3b-42e6-bedf-bc0687eeaed6_38,\n",
            "Type: azureml.scriptrun,\n",
            "Status: Completed)\n"
          ]
        }
      ],
      "execution_count": 22,
      "metadata": {
        "collapsed": true,
        "jupyter": {
          "source_hidden": false,
          "outputs_hidden": false
        },
        "nteract": {
          "transient": {
            "deleting": false
          }
        },
        "gather": {
          "logged": 1624345838740
        }
      }
    },
    {
      "cell_type": "code",
      "source": [
        "print(fitted_model)"
      ],
      "outputs": [
        {
          "output_type": "stream",
          "name": "stdout",
          "text": [
            "Pipeline(memory=None,\n",
            "         steps=[('datatransformer',\n",
            "                 DataTransformer(enable_dnn=False, enable_feature_sweeping=True, feature_sweeping_config={}, feature_sweeping_timeout=86400, featurization_config=None, force_text_dnn=False, is_cross_validation=True, is_onnx_compatible=False, observer=None, task='classification', working_dir='/mnt/batch/tasks/shared/LS_root/mount...\n",
            "    gpu_training_param_dict={'processing_unit_type': 'cpu'}\n",
            "), random_state=None, reg_alpha=0.7368421052631579, reg_lambda=0.7368421052631579, subsample=1))], verbose=False))], flatten_transform=None, weights=[0.14285714285714285, 0.14285714285714285, 0.14285714285714285, 0.14285714285714285, 0.14285714285714285, 0.14285714285714285, 0.14285714285714285]))],\n",
            "         verbose=False)\n"
          ]
        }
      ],
      "execution_count": 23,
      "metadata": {
        "collapsed": true,
        "jupyter": {
          "source_hidden": false,
          "outputs_hidden": false
        },
        "nteract": {
          "transient": {
            "deleting": false
          }
        },
        "gather": {
          "logged": 1624345860217
        }
      }
    },
    {
      "cell_type": "code",
      "source": [
        "#TODO: Save the best model\r\n",
        "best_model_metrics = best_model.get_metrics()\r\n",
        "best_model.register_model(\r\n",
        "    model_name='best_automl_model', \r\n",
        "    model_path='/outputs', \r\n",
        "    properties={'Accuracy': best_model_metrics['accuracy']}, \r\n",
        "    tags={'Training context': 'Auto ML'})"
      ],
      "outputs": [
        {
          "output_type": "execute_result",
          "execution_count": 20,
          "data": {
            "text/plain": "Model(workspace=Workspace.create(name='quick-starts-ws-147669', subscription_id='48a74bb7-9950-4cc1-9caa-5d50f995cc55', resource_group='aml-quickstarts-147669'), name=best_automl_model, id=best_automl_model:1, version=1, tags={'Training context': 'Auto ML'}, properties={'Accuracy': '0.8763218390804598'})"
          },
          "metadata": {}
        }
      ],
      "execution_count": 20,
      "metadata": {
        "gather": {
          "logged": 1624345392296
        },
        "jupyter": {
          "outputs_hidden": false,
          "source_hidden": false
        },
        "nteract": {
          "transient": {
            "deleting": false
          }
        }
      }
    },
    {
      "cell_type": "code",
      "source": [
        "model_name = best_model.properties['model_name']\r\n",
        "model_name"
      ],
      "outputs": [
        {
          "output_type": "execute_result",
          "execution_count": 21,
          "data": {
            "text/plain": "'AutoML81b2b526238'"
          },
          "metadata": {}
        }
      ],
      "execution_count": 21,
      "metadata": {
        "collapsed": true,
        "jupyter": {
          "source_hidden": false,
          "outputs_hidden": false
        },
        "nteract": {
          "transient": {
            "deleting": false
          }
        },
        "gather": {
          "logged": 1624345513722
        }
      }
    },
    {
      "cell_type": "markdown",
      "source": [
        "## Model Deployment\n",
        "\n",
        "Remember you have to deploy only one of the two models you trained.. Perform the steps in the rest of this notebook only if you wish to deploy this model.\n",
        "\n",
        "TODO: In the cell below, register the model, create an inference config and deploy the model as a web service."
      ],
      "metadata": {}
    },
    {
      "cell_type": "code",
      "source": [
        "from azureml.core.environment import Environment\r\n",
        "from azureml.core.model import InferenceConfig\r\n",
        "from azureml.core.webservice import AciWebservice\r\n",
        "import sklearn\r\n",
        "import json\r\n",
        "\r\n",
        "# Register model\r\n",
        "\r\n",
        "ml_model = remote_run.register_model(\r\n",
        "    model_name=model_name,\r\n",
        "    description='Best AutoML model' \r\n",
        ")\r\n",
        "\r\n",
        "print(ml_model.name)"
      ],
      "outputs": [
        {
          "output_type": "stream",
          "name": "stdout",
          "text": [
            "AutoML81b2b526238\n"
          ]
        }
      ],
      "execution_count": 24,
      "metadata": {
        "gather": {
          "logged": 1624351862985
        },
        "jupyter": {
          "outputs_hidden": false,
          "source_hidden": false
        },
        "nteract": {
          "transient": {
            "deleting": false
          }
        }
      }
    },
    {
      "cell_type": "code",
      "source": [
        "env = best_model.get_environment()\r\n",
        "best_model.download_file('outputs/scoring_file_v_1_0_0.py', 'score.py')"
      ],
      "outputs": [],
      "execution_count": 25,
      "metadata": {
        "collapsed": true,
        "jupyter": {
          "source_hidden": false,
          "outputs_hidden": false
        },
        "nteract": {
          "transient": {
            "deleting": false
          }
        },
        "gather": {
          "logged": 1624352154098
        }
      }
    },
    {
      "cell_type": "code",
      "source": [
        "# Inference config\r\n",
        "\r\n",
        "infer_config = InferenceConfig(entry_script='score.py', environment=env)\r\n",
        "service_config = AciWebservice.deploy_configuration(\r\n",
        "    cpu_cores=1,\r\n",
        "    memory_gb=1,\r\n",
        "    enable_app_insights=True\r\n",
        ")\r\n",
        "\r\n",
        "service_name = 'heart-project-service'\r\n"
      ],
      "outputs": [],
      "execution_count": 26,
      "metadata": {
        "collapsed": true,
        "jupyter": {
          "source_hidden": false,
          "outputs_hidden": false
        },
        "nteract": {
          "transient": {
            "deleting": false
          }
        },
        "gather": {
          "logged": 1624352527389
        }
      }
    },
    {
      "cell_type": "code",
      "source": [
        "from azureml.core import Webservice, Model\r\n",
        "\r\n",
        "deploy_service = Model.deploy(\r\n",
        "    ws,\r\n",
        "    service_name,\r\n",
        "    [ml_model],\r\n",
        "    infer_config,\r\n",
        "    service_config\r\n",
        ")"
      ],
      "outputs": [],
      "execution_count": 27,
      "metadata": {
        "collapsed": true,
        "jupyter": {
          "source_hidden": false,
          "outputs_hidden": false
        },
        "nteract": {
          "transient": {
            "deleting": false
          }
        },
        "gather": {
          "logged": 1624353202053
        }
      }
    },
    {
      "cell_type": "code",
      "source": [
        "deploy_service.wait_for_deployment(show_output=True)"
      ],
      "outputs": [
        {
          "output_type": "stream",
          "name": "stdout",
          "text": [
            "Tips: You can try get_logs(): https://aka.ms/debugimage#dockerlog or local deployment: https://aka.ms/debugimage#debug-locally to debug if deployment takes longer than 10 minutes.\n",
            "Running\n",
            "2021-06-22 09:13:21+00:00 Creating Container Registry if not exists.\n",
            "2021-06-22 09:13:32+00:00 Registering the environment.\n",
            "2021-06-22 09:13:33+00:00 Use the existing image.\n",
            "2021-06-22 09:13:33+00:00 Generating deployment configuration.\n",
            "2021-06-22 09:13:34+00:00 Submitting deployment to compute.\n",
            "2021-06-22 09:13:37+00:00 Checking the status of deployment heart-project-service..\n",
            "2021-06-22 09:17:31+00:00 Checking the status of inference endpoint heart-project-service.\n",
            "Succeeded\n",
            "ACI service creation operation finished, operation \"Succeeded\"\n"
          ]
        }
      ],
      "execution_count": 29,
      "metadata": {
        "collapsed": true,
        "jupyter": {
          "source_hidden": false,
          "outputs_hidden": false
        },
        "nteract": {
          "transient": {
            "deleting": false
          }
        },
        "gather": {
          "logged": 1624353456320
        }
      }
    },
    {
      "cell_type": "code",
      "source": [
        "print(deploy_service.state)"
      ],
      "outputs": [
        {
          "output_type": "stream",
          "name": "stdout",
          "text": [
            "Healthy\n"
          ]
        }
      ],
      "execution_count": 30,
      "metadata": {
        "collapsed": true,
        "jupyter": {
          "source_hidden": false,
          "outputs_hidden": false
        },
        "nteract": {
          "transient": {
            "deleting": false
          }
        },
        "gather": {
          "logged": 1624353691169
        }
      }
    },
    {
      "cell_type": "code",
      "source": [
        "service_url = deploy_service.scoring_uri\r\n",
        "print(service_url)"
      ],
      "outputs": [
        {
          "output_type": "stream",
          "name": "stdout",
          "text": [
            "http://7fd14725-046b-4c61-9a70-87ef2bad6776.southcentralus.azurecontainer.io/score\n"
          ]
        }
      ],
      "execution_count": 33,
      "metadata": {
        "collapsed": true,
        "jupyter": {
          "source_hidden": false,
          "outputs_hidden": false
        },
        "nteract": {
          "transient": {
            "deleting": false
          }
        },
        "gather": {
          "logged": 1624353799198
        }
      }
    },
    {
      "cell_type": "markdown",
      "source": [
        "TODO: In the cell below, send a request to the web service you deployed to test it."
      ],
      "metadata": {
        "collapsed": true,
        "gather": {
          "logged": 1598431657736
        },
        "jupyter": {
          "outputs_hidden": false,
          "source_hidden": false
        },
        "nteract": {
          "transient": {
            "deleting": false
          }
        }
      }
    },
    {
      "cell_type": "code",
      "source": [
        "%run endpoint.py"
      ],
      "outputs": [
        {
          "output_type": "stream",
          "name": "stdout",
          "text": [
            "{\"result\": [1, 1]}\n"
          ]
        }
      ],
      "execution_count": 34,
      "metadata": {
        "gather": {
          "logged": 1598432707604
        },
        "jupyter": {
          "outputs_hidden": false,
          "source_hidden": false
        },
        "nteract": {
          "transient": {
            "deleting": false
          }
        }
      }
    },
    {
      "cell_type": "code",
      "source": [
        "test_data = dataset.to_pandas_dataframe().dropna()\r\n",
        "test_data_sample = test_data.sample(5)"
      ],
      "outputs": [],
      "execution_count": 37,
      "metadata": {
        "collapsed": true,
        "jupyter": {
          "source_hidden": false,
          "outputs_hidden": false
        },
        "nteract": {
          "transient": {
            "deleting": false
          }
        },
        "gather": {
          "logged": 1624354344182
        }
      }
    },
    {
      "cell_type": "code",
      "source": [
        "y_truth = test_data_sample.pop(\"DEATH_EVENT\")\r\n",
        "sample_json_data = json.dumps(\r\n",
        "    {'data': test_data_sample.to_dict(orient='records')}\r\n",
        ")\r\n",
        "print(sample_json_data)"
      ],
      "outputs": [
        {
          "output_type": "stream",
          "name": "stdout",
          "text": [
            "{\"data\": [{\"age\": 42.0, \"anaemia\": 1, \"creatinine_phosphokinase\": 250, \"diabetes\": 1, \"ejection_fraction\": 15, \"high_blood_pressure\": 0, \"platelets\": 213000.0, \"serum_creatinine\": 1.3, \"serum_sodium\": 136, \"sex\": 0, \"smoking\": 0, \"time\": 65}, {\"age\": 45.0, \"anaemia\": 0, \"creatinine_phosphokinase\": 292, \"diabetes\": 1, \"ejection_fraction\": 35, \"high_blood_pressure\": 0, \"platelets\": 850000.0, \"serum_creatinine\": 1.3, \"serum_sodium\": 142, \"sex\": 1, \"smoking\": 1, \"time\": 88}, {\"age\": 61.0, \"anaemia\": 0, \"creatinine_phosphokinase\": 582, \"diabetes\": 1, \"ejection_fraction\": 38, \"high_blood_pressure\": 0, \"platelets\": 147000.0, \"serum_creatinine\": 1.2, \"serum_sodium\": 141, \"sex\": 1, \"smoking\": 0, \"time\": 237}, {\"age\": 50.0, \"anaemia\": 1, \"creatinine_phosphokinase\": 115, \"diabetes\": 0, \"ejection_fraction\": 20, \"high_blood_pressure\": 0, \"platelets\": 189000.0, \"serum_creatinine\": 0.8, \"serum_sodium\": 139, \"sex\": 1, \"smoking\": 0, \"time\": 146}, {\"age\": 43.0, \"anaemia\": 1, \"creatinine_phosphokinase\": 358, \"diabetes\": 0, \"ejection_fraction\": 50, \"high_blood_pressure\": 0, \"platelets\": 237000.0, \"serum_creatinine\": 1.3, \"serum_sodium\": 135, \"sex\": 0, \"smoking\": 0, \"time\": 97}]}\n"
          ]
        }
      ],
      "execution_count": 38,
      "metadata": {
        "collapsed": true,
        "jupyter": {
          "source_hidden": false,
          "outputs_hidden": false
        },
        "nteract": {
          "transient": {
            "deleting": false
          }
        },
        "gather": {
          "logged": 1624354520294
        }
      }
    },
    {
      "cell_type": "markdown",
      "source": [
        "TODO: In the cell below, print the logs of the web service and delete the service"
      ],
      "metadata": {
        "collapsed": true,
        "gather": {
          "logged": 1598432765711
        },
        "jupyter": {
          "outputs_hidden": false,
          "source_hidden": false
        },
        "nteract": {
          "transient": {
            "deleting": false
          }
        }
      }
    },
    {
      "cell_type": "code",
      "source": [
        "service_output = deploy_service.run(sample_json_data)\r\n",
        "print(\"Predicted values: \\n{}\".format(service_output))\r\n",
        "print(\"True Values: \\n{}\".format(y_truth.values))"
      ],
      "outputs": [
        {
          "output_type": "stream",
          "name": "stdout",
          "text": [
            "Predicted values: \n",
            "{\"result\": [1, 0, 0, 0, 0]}\n",
            "True Values: \n",
            "[1 0 0 0 0]\n"
          ]
        }
      ],
      "execution_count": 39,
      "metadata": {
        "jupyter": {
          "outputs_hidden": false,
          "source_hidden": false
        },
        "nteract": {
          "transient": {
            "deleting": false
          }
        },
        "gather": {
          "logged": 1624354693584
        }
      }
    },
    {
      "cell_type": "code",
      "source": [
        "deploy_service.get_logs()"
      ],
      "outputs": [
        {
          "output_type": "execute_result",
          "execution_count": 40,
          "data": {
            "text/plain": "'2021-06-22T09:17:16,445053900+00:00 - rsyslog/run \\n2021-06-22T09:17:16,445979100+00:00 - iot-server/run \\n2021-06-22T09:17:16,454940900+00:00 - gunicorn/run \\n2021-06-22T09:17:16,546908900+00:00 - nginx/run \\n/usr/sbin/nginx: /azureml-envs/azureml_9f1639e55483048380059c02b396daba/lib/libcrypto.so.1.0.0: no version information available (required by /usr/sbin/nginx)\\n/usr/sbin/nginx: /azureml-envs/azureml_9f1639e55483048380059c02b396daba/lib/libcrypto.so.1.0.0: no version information available (required by /usr/sbin/nginx)\\n/usr/sbin/nginx: /azureml-envs/azureml_9f1639e55483048380059c02b396daba/lib/libssl.so.1.0.0: no version information available (required by /usr/sbin/nginx)\\n/usr/sbin/nginx: /azureml-envs/azureml_9f1639e55483048380059c02b396daba/lib/libssl.so.1.0.0: no version information available (required by /usr/sbin/nginx)\\n/usr/sbin/nginx: /azureml-envs/azureml_9f1639e55483048380059c02b396daba/lib/libssl.so.1.0.0: no version information available (required by /usr/sbin/nginx)\\nrsyslogd: /azureml-envs/azureml_9f1639e55483048380059c02b396daba/lib/libuuid.so.1: no version information available (required by rsyslogd)\\nStarting gunicorn 20.1.0\\nListening at: http://127.0.0.1:31311 (68)\\nUsing worker: sync\\nworker timeout is set to 300\\nBooting worker with pid: 92\\nSPARK_HOME not set. Skipping PySpark Initialization.\\nGenerating new fontManager, this may take some time...\\nEdgeHubConnectionString and IOTEDGE_IOTHUBHOSTNAME are not set. Exiting...\\n2021-06-22T09:17:20,169924100+00:00 - iot-server/finish 1 0\\n2021-06-22T09:17:20,172740500+00:00 - Exit code 1 is normal. Not restarting iot-server.\\nInitializing logger\\n2021-06-22 09:17:20,640 | root | INFO | Starting up app insights client\\n2021-06-22 09:17:20,641 | root | INFO | Starting up request id generator\\n2021-06-22 09:17:20,642 | root | INFO | Starting up app insight hooks\\n2021-06-22 09:17:20,645 | root | INFO | Invoking user\\'s init function\\n2021-06-22 09:17:25,668 | azureml.core | WARNING | Failure while loading azureml_run_type_providers. Failed to load entrypoint automl = azureml.train.automl.run:AutoMLRun._from_run_dto with exception cannot import name \\'RunType\\'.\\nFailure while loading azureml_run_type_providers. Failed to load entrypoint automl = azureml.train.automl.run:AutoMLRun._from_run_dto with exception cannot import name \\'RunType\\'.\\n2021-06-22 09:17:26,212 | root | INFO | Users\\'s init has completed successfully\\n2021-06-22 09:17:26,220 | root | INFO | Skipping middleware: dbg_model_info as it\\'s not enabled.\\n2021-06-22 09:17:26,221 | root | INFO | Skipping middleware: dbg_resource_usage as it\\'s not enabled.\\n2021-06-22 09:17:26,229 | root | INFO | Scoring timeout is found from os.environ: 60000 ms\\n2021-06-22 09:17:31,281 | root | INFO | 200\\n127.0.0.1 - - [22/Jun/2021:09:17:31 +0000] \"GET /swagger.json HTTP/1.0\" 200 3045 \"-\" \"Go-http-client/1.1\"\\n2021-06-22 09:17:36,025 | root | INFO | 200\\n127.0.0.1 - - [22/Jun/2021:09:17:36 +0000] \"GET /swagger.json HTTP/1.0\" 200 3045 \"-\" \"Go-http-client/1.1\"\\n2021-06-22 09:18:03,640 | root | INFO | 200\\n127.0.0.1 - - [22/Jun/2021:09:18:03 +0000] \"GET /swagger.json HTTP/1.0\" 200 3045 \"-\" \"Go-http-client/1.1\"\\n2021-06-22 09:18:19,897 | root | INFO | 200\\n127.0.0.1 - - [22/Jun/2021:09:18:19 +0000] \"GET /swagger.json HTTP/1.0\" 200 3045 \"-\" \"Go-http-client/1.1\"\\n2021-06-22 09:20:33,590 | root | INFO | 200\\n127.0.0.1 - - [22/Jun/2021:09:20:33 +0000] \"GET /swagger.json HTTP/1.0\" 200 3045 \"-\" \"Go-http-client/1.1\"\\n2021-06-22 09:23:56,517 | root | INFO | 200\\n127.0.0.1 - - [22/Jun/2021:09:23:56 +0000] \"GET /swagger.json HTTP/1.0\" 200 3045 \"-\" \"Go-http-client/1.1\"\\n2021-06-22 09:25:33,107 | root | INFO | Validation Request Content-Type\\n2021-06-22 09:25:33,110 | root | INFO | Scoring Timer is set to 60.0 seconds\\n2021-06-22 09:25:33,347 | root | INFO | 200\\n127.0.0.1 - - [22/Jun/2021:09:25:33 +0000] \"POST /score HTTP/1.0\" 200 22 \"-\" \"python-requests/2.25.1\"\\n2021-06-22 09:26:09,497 | root | INFO | 200\\n127.0.0.1 - - [22/Jun/2021:09:26:09 +0000] \"GET /swagger.json HTTP/1.0\" 200 3045 \"-\" \"Go-http-client/1.1\"\\n2021-06-22 09:26:45,700 | root | INFO | 200\\n127.0.0.1 - - [22/Jun/2021:09:26:45 +0000] \"GET /swagger.json HTTP/1.0\" 200 3045 \"-\" \"Go-http-client/1.1\"\\n2021-06-22 09:28:31,502 | root | INFO | 200\\n127.0.0.1 - - [22/Jun/2021:09:28:31 +0000] \"GET /swagger.json HTTP/1.0\" 200 3045 \"-\" \"Go-http-client/1.1\"\\n2021-06-22 09:38:13,184 | root | INFO | Validation Request Content-Type\\n2021-06-22 09:38:13,191 | root | INFO | Scoring Timer is set to 60.0 seconds\\n2021-06-22 09:38:13,428 | root | INFO | 200\\n127.0.0.1 - - [22/Jun/2021:09:38:13 +0000] \"POST /score HTTP/1.0\" 200 31 \"-\" \"python-requests/2.25.1\"\\n'"
          },
          "metadata": {}
        }
      ],
      "execution_count": 40,
      "metadata": {
        "collapsed": true,
        "jupyter": {
          "source_hidden": false,
          "outputs_hidden": false
        },
        "nteract": {
          "transient": {
            "deleting": false
          }
        },
        "gather": {
          "logged": 1624354724095
        }
      }
    },
    {
      "cell_type": "code",
      "source": [
        "deploy_service.delete()\r\n"
      ],
      "outputs": [],
      "execution_count": 41,
      "metadata": {
        "collapsed": true,
        "jupyter": {
          "source_hidden": false,
          "outputs_hidden": false
        },
        "nteract": {
          "transient": {
            "deleting": false
          }
        },
        "gather": {
          "logged": 1624356814763
        }
      }
    },
    {
      "cell_type": "code",
      "source": [
        "compute_target.delete()"
      ],
      "outputs": [
        {
          "output_type": "stream",
          "name": "stdout",
          "text": [
            "Current provisioning state of AmlCompute is \"Deleting\"\n",
            "\n",
            "Current provisioning state of AmlCompute is \"Deleting\"\n",
            "\n"
          ]
        }
      ],
      "execution_count": 42,
      "metadata": {
        "collapsed": true,
        "jupyter": {
          "source_hidden": false,
          "outputs_hidden": false
        },
        "nteract": {
          "transient": {
            "deleting": false
          }
        },
        "gather": {
          "logged": 1624356831248
        }
      }
    }
  ],
  "metadata": {
    "kernel_info": {
      "name": "python3"
    },
    "kernelspec": {
      "name": "python3",
      "language": "python",
      "display_name": "Python 3"
    },
    "language_info": {
      "name": "python",
      "version": "3.6.9",
      "mimetype": "text/x-python",
      "codemirror_mode": {
        "name": "ipython",
        "version": 3
      },
      "pygments_lexer": "ipython3",
      "nbconvert_exporter": "python",
      "file_extension": ".py"
    },
    "nteract": {
      "version": "nteract-front-end@1.0.0"
    },
    "microsoft": {
      "host": {
        "AzureML": {
          "notebookHasBeenCompleted": true
        }
      }
    }
  },
  "nbformat": 4,
  "nbformat_minor": 2
}